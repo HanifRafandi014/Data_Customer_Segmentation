{
  "nbformat": 4,
  "nbformat_minor": 0,
  "metadata": {
    "colab": {
      "provenance": [],
      "toc_visible": true
    },
    "kernelspec": {
      "name": "python3",
      "display_name": "Python 3"
    },
    "language_info": {
      "name": "python"
    }
  },
  "cells": [
    {
      "cell_type": "markdown",
      "source": [
        "## **1. UNDESTAND THE DATA**"
      ],
      "metadata": {
        "id": "J0TFfvCwMMUh"
      }
    },
    {
      "cell_type": "markdown",
      "source": [
        "This Data consist of order data, customer data, and payment data from 2016-2018"
      ],
      "metadata": {
        "id": "RUdV5X2-NCyw"
      }
    },
    {
      "cell_type": "code",
      "execution_count": null,
      "metadata": {
        "id": "pphaEInMKXSB"
      },
      "outputs": [],
      "source": [
        "#Importing Libraries\n",
        "#Basic libraries\n",
        "import pandas as pd\n",
        "import numpy as np\n",
        "import matplotlib.pyplot as plt\n",
        "import seaborn as sns\n",
        "from scipy import stats\n",
        "import statistics\n",
        "\n",
        "#Feature Selection\n",
        "from sklearn.preprocessing import StandardScaler\n",
        "from sklearn.preprocessing import MinMaxScaler\n",
        "\n",
        "#Modelling Algoritm\n",
        "from sklearn.cluster import KMeans\n",
        "\n",
        "#Model Evaluation\n",
        "from yellowbrick.cluster import SilhouetteVisualizer"
      ]
    },
    {
      "cell_type": "code",
      "source": [
        "#Load All The Data\n",
        "\n",
        "order = pd.read_csv('https://docs.google.com/spreadsheets/d/1bvWmvPsnCAQdN0wFLL_4FILHDK6v7pUbb_AC5Sjd1ak/export?format=csv&gid=1982090465')\n",
        "payment = pd.read_csv('https://docs.google.com/spreadsheets/d/148mQpwyQMjcKa7D1Fzo6w07gLmOtmevJrBJR0aOeUvw/export?format=csv&gid=882307730')\n",
        "customer = pd.read_csv('https://docs.google.com/spreadsheets/d/1inXJhOJCNlvRLDscs1Bqo2UwTF6uYDcEAiJNlc_6H-I/export?format=csv&gid=1340328169')"
      ],
      "metadata": {
        "id": "naSQ718yLE1k"
      },
      "execution_count": null,
      "outputs": []
    },
    {
      "cell_type": "code",
      "source": [
        "#Combining the data\n",
        "\n",
        "data_combine = order.merge(payment, how='inner', on ='order_id')\n",
        "data_combine = data_combine.merge(customer, how='inner', on ='customer_id')"
      ],
      "metadata": {
        "id": "ZXAJQdWmNyOK"
      },
      "execution_count": null,
      "outputs": []
    },
    {
      "cell_type": "code",
      "source": [
        "#percentage of null data of each column\n",
        "\n",
        "round((data_combine.isnull().sum()/ len(data_combine)*100),2)"
      ],
      "metadata": {
        "colab": {
          "base_uri": "https://localhost:8080/"
        },
        "id": "emiNc8CWOfdh",
        "outputId": "ed84d538-4c93-4dcf-e961-6dfb08dcfabd"
      },
      "execution_count": null,
      "outputs": [
        {
          "output_type": "execute_result",
          "data": {
            "text/plain": [
              "order_id                         0.00\n",
              "customer_id                      0.00\n",
              "order_status                     0.00\n",
              "order_purchase_timestamp         0.00\n",
              "order_approved_at                0.17\n",
              "order_delivered_carrier_date     1.82\n",
              "order_delivered_customer_date    3.01\n",
              "order_estimated_delivery_date    0.00\n",
              "payment_sequential               0.00\n",
              "payment_type                     0.00\n",
              "payment_installments             0.00\n",
              "payment_value                    0.00\n",
              "customer_unique_id               0.00\n",
              "customer_zip_code_prefix         0.00\n",
              "customer_city                    0.00\n",
              "customer_state                   0.00\n",
              "dtype: float64"
            ]
          },
          "metadata": {},
          "execution_count": 4
        }
      ]
    },
    {
      "cell_type": "code",
      "source": [
        "data_combine.info()"
      ],
      "metadata": {
        "colab": {
          "base_uri": "https://localhost:8080/"
        },
        "id": "hhIIUOWlOpKf",
        "outputId": "1222ebc4-2454-43ba-e6c4-5be487f67af8"
      },
      "execution_count": null,
      "outputs": [
        {
          "output_type": "stream",
          "name": "stdout",
          "text": [
            "<class 'pandas.core.frame.DataFrame'>\n",
            "Int64Index: 103886 entries, 0 to 103885\n",
            "Data columns (total 16 columns):\n",
            " #   Column                         Non-Null Count   Dtype  \n",
            "---  ------                         --------------   -----  \n",
            " 0   order_id                       103886 non-null  object \n",
            " 1   customer_id                    103886 non-null  object \n",
            " 2   order_status                   103886 non-null  object \n",
            " 3   order_purchase_timestamp       103886 non-null  object \n",
            " 4   order_approved_at              103711 non-null  object \n",
            " 5   order_delivered_carrier_date   101998 non-null  object \n",
            " 6   order_delivered_customer_date  100754 non-null  object \n",
            " 7   order_estimated_delivery_date  103886 non-null  object \n",
            " 8   payment_sequential             103886 non-null  int64  \n",
            " 9   payment_type                   103886 non-null  object \n",
            " 10  payment_installments           103886 non-null  int64  \n",
            " 11  payment_value                  103886 non-null  float64\n",
            " 12  customer_unique_id             103886 non-null  object \n",
            " 13  customer_zip_code_prefix       103886 non-null  int64  \n",
            " 14  customer_city                  103886 non-null  object \n",
            " 15  customer_state                 103886 non-null  object \n",
            "dtypes: float64(1), int64(3), object(12)\n",
            "memory usage: 13.5+ MB\n"
          ]
        }
      ]
    },
    {
      "cell_type": "markdown",
      "source": [
        "# **2. DATA CLEANING**"
      ],
      "metadata": {
        "id": "pHS3ly8RKq-e"
      }
    },
    {
      "cell_type": "markdown",
      "source": [
        "## **1.1 Variable Handling (Converting Data Types)**"
      ],
      "metadata": {
        "id": "WJQ1PkZLLXJF"
      }
    },
    {
      "cell_type": "code",
      "source": [
        "#Changing the data type on each column the same to it's data type\n",
        "date_columns = ['order_purchase_timestamp', 'order_approved_at', 'order_delivered_carrier_date', 'order_delivered_customer_date',\n",
        "             'order_estimated_delivery_date']\n",
        "for col in date_columns:\n",
        "    data_combine[col] = pd.to_datetime(data_combine[col], format='%Y-%m-%d %H:%M:%S')"
      ],
      "metadata": {
        "id": "OpVG6mw0Ovr3"
      },
      "execution_count": null,
      "outputs": []
    },
    {
      "cell_type": "code",
      "source": [
        "data_combine.dtypes"
      ],
      "metadata": {
        "colab": {
          "base_uri": "https://localhost:8080/"
        },
        "id": "AsvdSdMUW2Nm",
        "outputId": "72cd25c3-3fde-4d3f-8fcc-81ed2e96064b"
      },
      "execution_count": null,
      "outputs": [
        {
          "output_type": "execute_result",
          "data": {
            "text/plain": [
              "order_id                                 object\n",
              "customer_id                              object\n",
              "order_status                             object\n",
              "order_purchase_timestamp         datetime64[ns]\n",
              "order_approved_at                datetime64[ns]\n",
              "order_delivered_carrier_date     datetime64[ns]\n",
              "order_delivered_customer_date    datetime64[ns]\n",
              "order_estimated_delivery_date    datetime64[ns]\n",
              "payment_sequential                        int64\n",
              "payment_type                             object\n",
              "payment_installments                      int64\n",
              "payment_value                           float64\n",
              "customer_unique_id                       object\n",
              "customer_zip_code_prefix                  int64\n",
              "customer_city                            object\n",
              "customer_state                           object\n",
              "dtype: object"
            ]
          },
          "metadata": {},
          "execution_count": 9
        }
      ]
    },
    {
      "cell_type": "code",
      "source": [
        "#Clasify besed on each data type\n",
        "only_numeric = data_combine.select_dtypes(include=['int', 'float'])\n",
        "only_object = data_combine.select_dtypes(include=['object'])\n",
        "only_time = data_combine.select_dtypes(include=['datetime', 'timedelta'])"
      ],
      "metadata": {
        "id": "FLSz3SEkPZg7"
      },
      "execution_count": null,
      "outputs": []
    },
    {
      "cell_type": "markdown",
      "source": [
        "## **1.2 Duplicate value Handling**"
      ],
      "metadata": {
        "id": "VB-LQ-zYMCcz"
      }
    },
    {
      "cell_type": "code",
      "source": [
        "#Looking for duplicated data\n",
        "print('Number of duplicated data is: ',data_combine.duplicated().sum())"
      ],
      "metadata": {
        "colab": {
          "base_uri": "https://localhost:8080/"
        },
        "id": "aJk2BvClP0gw",
        "outputId": "33848540-8cac-4e34-d605-7de461e82515"
      },
      "execution_count": null,
      "outputs": [
        {
          "output_type": "stream",
          "name": "stdout",
          "text": [
            "Number of duplicated data is:  0\n"
          ]
        }
      ]
    },
    {
      "cell_type": "markdown",
      "source": [
        "## **1.3 Irrelevant Value Handling**"
      ],
      "metadata": {
        "id": "toTDKeOgMw40"
      }
    },
    {
      "cell_type": "code",
      "source": [
        "#Choosing time range between 01-2017 and 08-2018\n",
        "#Before 01-2017 and after 08-2018 detected unbalanced monthly order number\n",
        "start_date = \"2017-01-01\"\n",
        "end_date = \"2018-08-31\"\n",
        "\n",
        "after_start_date = data_combine['order_purchase_timestamp'] >= start_date\n",
        "before_end_date = data_combine['order_purchase_timestamp'] <= end_date\n",
        "between_two_dates = after_start_date & before_end_date\n",
        "data_combine = data_combine.loc[between_two_dates]"
      ],
      "metadata": {
        "id": "0kNjhPPDQUvs"
      },
      "execution_count": null,
      "outputs": []
    },
    {
      "cell_type": "markdown",
      "source": [
        "## **1.4 Missing Values Handling**"
      ],
      "metadata": {
        "id": "Vt7-Ey9PLeeo"
      }
    },
    {
      "cell_type": "code",
      "source": [
        "#Melihat berapa persen data yang kosong pad setiap kolomnya\n",
        "round((data_combine.isnull().sum()/ len(data_combine)*100),2)"
      ],
      "metadata": {
        "colab": {
          "base_uri": "https://localhost:8080/"
        },
        "id": "HxvBAA22Q0XH",
        "outputId": "a10feff0-7318-4528-ce90-390399810820"
      },
      "execution_count": null,
      "outputs": [
        {
          "output_type": "execute_result",
          "data": {
            "text/plain": [
              "order_id                         0.00\n",
              "customer_id                      0.00\n",
              "order_status                     0.00\n",
              "order_purchase_timestamp         0.00\n",
              "order_approved_at                0.14\n",
              "order_delivered_carrier_date     1.76\n",
              "order_delivered_customer_date    2.95\n",
              "order_estimated_delivery_date    0.00\n",
              "payment_sequential               0.00\n",
              "payment_type                     0.00\n",
              "payment_installments             0.00\n",
              "payment_value                    0.00\n",
              "customer_unique_id               0.00\n",
              "customer_zip_code_prefix         0.00\n",
              "customer_city                    0.00\n",
              "customer_state                   0.00\n",
              "dtype: float64"
            ]
          },
          "metadata": {},
          "execution_count": 10
        }
      ]
    },
    {
      "cell_type": "code",
      "source": [
        "#Handling missing data on order_approved_at\n",
        "missing_1 = data_combine['order_approved_at'] - data_combine['order_purchase_timestamp']\n",
        "print(missing_1.describe())\n",
        "print('='*50)\n",
        "print('Median dari waktu order sampai approved: ',missing_1.median())\n",
        "\n",
        "#using median\n",
        "data_combine['order_approved_at']= data_combine['order_approved_at'].fillna(data_combine['order_purchase_timestamp'] + missing_1.median())"
      ],
      "metadata": {
        "colab": {
          "base_uri": "https://localhost:8080/"
        },
        "id": "tYi_OT5GRnDA",
        "outputId": "66b0ba4a-0bfb-4508-f65b-058ed7b2ca9b"
      },
      "execution_count": null,
      "outputs": [
        {
          "output_type": "stream",
          "name": "stdout",
          "text": [
            "count                       103370\n",
            "mean     0 days 10:13:31.962735803\n",
            "std      0 days 21:16:32.361399378\n",
            "min                0 days 00:00:00\n",
            "25%                0 days 00:12:52\n",
            "50%                0 days 00:20:18\n",
            "75%                0 days 14:12:34\n",
            "max               60 days 10:51:59\n",
            "dtype: object\n",
            "==================================================\n",
            "Median dari waktu order sampai approved:  0 days 00:20:18\n"
          ]
        }
      ]
    },
    {
      "cell_type": "code",
      "source": [
        "#Handling missing value on order_delivered_carrier_date\n",
        "missing_2 = data_combine['order_delivered_carrier_date'] - data_combine['order_approved_at']\n",
        "print(missing_2.describe())\n",
        "print('='*50)\n",
        "print('Median dari waktu apporved sampai dikirim: ',missing_2.median())\n",
        "\n",
        "#use median\n",
        "data_combine['order_delivered_carrier_date']= data_combine['order_delivered_carrier_date'].fillna(data_combine['order_approved_at'] + missing_2.median())"
      ],
      "metadata": {
        "colab": {
          "base_uri": "https://localhost:8080/"
        },
        "id": "kVjzVgL7Rt25",
        "outputId": "8e83f84a-3046-465f-e63b-9bdd9a7ffddf"
      },
      "execution_count": null,
      "outputs": [
        {
          "output_type": "stream",
          "name": "stdout",
          "text": [
            "count                       101699\n",
            "mean     2 days 18:39:35.738699495\n",
            "std      3 days 10:54:41.676342376\n",
            "min            -172 days +18:44:38\n",
            "25%         0 days 21:03:01.500000\n",
            "50%                1 days 19:40:09\n",
            "75%         3 days 13:26:01.500000\n",
            "max              125 days 18:18:06\n",
            "dtype: object\n",
            "==================================================\n",
            "Median dari waktu apporved sampai dikirim:  1 days 19:40:09\n"
          ]
        }
      ]
    },
    {
      "cell_type": "code",
      "source": [
        "#Handling missing value on order_delivered_customer_date\n",
        "missing_3 = data_combine['order_delivered_customer_date'] - data_combine['order_delivered_carrier_date']\n",
        "print(missing_3.describe())\n",
        "print('='*50)\n",
        "print('Median dari waktu dikirim sampai diterima customer: ',missing_3.median())\n",
        "\n",
        "#using median\n",
        "data_combine['order_delivered_customer_date']= data_combine['order_delivered_customer_date'].fillna(data_combine['order_delivered_carrier_date'] + missing_3.median())"
      ],
      "metadata": {
        "colab": {
          "base_uri": "https://localhost:8080/"
        },
        "id": "r0ESnwFwSdmL",
        "outputId": "57bf31c7-0287-4ee1-f66d-decf2ebc0599"
      },
      "execution_count": null,
      "outputs": [
        {
          "output_type": "stream",
          "name": "stdout",
          "text": [
            "count                       100466\n",
            "mean     9 days 08:28:40.090348973\n",
            "std      8 days 18:30:59.503759280\n",
            "min             -17 days +21:41:31\n",
            "25%         4 days 02:45:53.750000\n",
            "50%         7 days 02:35:46.500000\n",
            "75%        12 days 00:57:23.750000\n",
            "max              205 days 04:35:00\n",
            "dtype: object\n",
            "==================================================\n",
            "Median dari waktu dikirim sampai diterima customer:  7 days 02:35:46.500000\n"
          ]
        }
      ]
    },
    {
      "cell_type": "markdown",
      "source": [
        "## **1.5 Feature Addition**"
      ],
      "metadata": {
        "id": "V4YLIHVQL0hi"
      }
    },
    {
      "cell_type": "code",
      "source": [
        "#Adding month_order column for monthly analysis\n",
        "data_combine['Month_order'] = data_combine['order_purchase_timestamp'].dt.to_period('M').astype('str')"
      ],
      "metadata": {
        "id": "qVA0NXT2QP53"
      },
      "execution_count": null,
      "outputs": []
    },
    {
      "cell_type": "code",
      "source": [
        "#Adding order_process_time column to get the data of order process time to customer\n",
        "data_combine['order_process_time'] = data_combine['order_delivered_customer_date'] - data_combine['order_purchase_timestamp']\n",
        "data_combine['order_process_time'] = data_combine['order_process_time'].dt.days"
      ],
      "metadata": {
        "id": "13iWBK6jQjKn"
      },
      "execution_count": null,
      "outputs": []
    },
    {
      "cell_type": "code",
      "source": [
        "#Adding order_delivery_time column to get the data of order delivery time\n",
        "data_combine['order_delivery_time'] = data_combine['order_delivered_customer_date'] - data_combine['order_delivered_carrier_date']\n",
        "data_combine['order_delivery_time'] = data_combine['order_delivery_time'].dt.days"
      ],
      "metadata": {
        "id": "0QQzX6vJQmb6"
      },
      "execution_count": null,
      "outputs": []
    },
    {
      "cell_type": "code",
      "source": [
        "#Adding order_time_accuracy column to analyze delivery punctuality\n",
        "data_combine['order_accuracy_time'] = data_combine['order_estimated_delivery_date'] - data_combine['order_delivered_customer_date']\n",
        "data_combine['order_accuracy_time'] = data_combine['order_accuracy_time'].dt.days"
      ],
      "metadata": {
        "id": "CG6PUe5RQpaF"
      },
      "execution_count": null,
      "outputs": []
    },
    {
      "cell_type": "code",
      "source": [
        "#Adding order_approved_time column to get approved time from ordering time\n",
        "data_combine['order_approved_time'] = data_combine['order_approved_at'] - data_combine['order_purchase_timestamp']\n",
        "data_combine['order_approved_time'] = data_combine['order_approved_time'].dt.days"
      ],
      "metadata": {
        "id": "-Mew7lBqQs6O"
      },
      "execution_count": null,
      "outputs": []
    },
    {
      "cell_type": "code",
      "source": [
        "#Adding day for daily analysis\n",
        "data_combine['daily_order'] = data_combine['order_purchase_timestamp'].dt.day_name().astype('str')"
      ],
      "metadata": {
        "id": "7ZSWscCpaPVf"
      },
      "execution_count": null,
      "outputs": []
    },
    {
      "cell_type": "markdown",
      "source": [
        "## **1.6 Outlier Handling**"
      ],
      "metadata": {
        "id": "NSLhQRaPTMWg"
      }
    },
    {
      "cell_type": "markdown",
      "source": [
        "### 1.6.1 Outlier Handling pada payment value"
      ],
      "metadata": {
        "id": "CwHHarSbun9R"
      }
    },
    {
      "cell_type": "code",
      "source": [
        "#Outliers on Monetary\n",
        "sns.boxplot(x=data_combine[\"payment_value\"])"
      ],
      "metadata": {
        "colab": {
          "base_uri": "https://localhost:8080/",
          "height": 296
        },
        "id": "Y6xE95gJrryU",
        "outputId": "76b91a0d-58c0-4758-d842-6af80c81fd90"
      },
      "execution_count": null,
      "outputs": [
        {
          "output_type": "execute_result",
          "data": {
            "text/plain": [
              "<matplotlib.axes._subplots.AxesSubplot at 0x7f868a389490>"
            ]
          },
          "metadata": {},
          "execution_count": 20
        },
        {
          "output_type": "display_data",
          "data": {
            "text/plain": [
              "<Figure size 432x288 with 1 Axes>"
            ],
            "image/png": "[encoded data removed]"
          },
          "metadata": {
            "needs_background": "light"
          }
        }
      ]
    },
    {
      "cell_type": "code",
      "source": [
        "def get_IQR(x):\n",
        "    q1 = np.percentile(x, 25)\n",
        "    q3 = np.percentile(x,75)\n",
        "    iqr=q3-q1\n",
        "    batas_bawah = q1 - (iqr*1.5)\n",
        "    batas_atas = q3 + (iqr*1.5)\n",
        "    return batas_bawah, batas_atas"
      ],
      "metadata": {
        "id": "nbHiHAAQTTt2"
      },
      "execution_count": null,
      "outputs": []
    },
    {
      "cell_type": "code",
      "source": [
        "x, y = get_IQR(data_combine[\"payment_value\"])\n",
        "data_combine = data_combine[(data_combine['payment_value']>x) & (data_combine['payment_value']<y)]\n",
        "print('batas bawah payment adalah',x)\n",
        "print('batas bawah payment adalah',y)"
      ],
      "metadata": {
        "id": "3e2dtSSgq0pS"
      },
      "execution_count": null,
      "outputs": []
    },
    {
      "cell_type": "code",
      "source": [],
      "metadata": {
        "id": "RyfLJRa58dv_"
      },
      "execution_count": null,
      "outputs": []
    },
    {
      "cell_type": "code",
      "source": [
        "sns.boxplot(x=data_combine[\"payment_value\"])"
      ],
      "metadata": {
        "colab": {
          "base_uri": "https://localhost:8080/",
          "height": 296
        },
        "id": "zNyP2Rimugjn",
        "outputId": "10008ae4-fba4-456b-b532-b73fb2a41f47"
      },
      "execution_count": null,
      "outputs": [
        {
          "output_type": "execute_result",
          "data": {
            "text/plain": [
              "<matplotlib.axes._subplots.AxesSubplot at 0x7f868a3a37d0>"
            ]
          },
          "metadata": {},
          "execution_count": 23
        },
        {
          "output_type": "display_data",
          "data": {
            "text/plain": [
              "<Figure size 432x288 with 1 Axes>"
            ],
            "image/png": "[encoded data removed]"
          },
          "metadata": {
            "needs_background": "light"
          }
        }
      ]
    },
    {
      "cell_type": "markdown",
      "source": [
        "### 1.6.2 Outlier Handling pada order_process_time"
      ],
      "metadata": {
        "id": "ipUtEd1Mux5k"
      }
    },
    {
      "cell_type": "code",
      "source": [
        "#Melihat ouliers pada order_process_time\n",
        "sns.boxplot(x=data_combine[\"order_process_time\"])"
      ],
      "metadata": {
        "colab": {
          "base_uri": "https://localhost:8080/",
          "height": 296
        },
        "id": "9I7c9LE3vAwc",
        "outputId": "bb99a3c7-e4c4-47d2-9213-e4b34309f590"
      },
      "execution_count": null,
      "outputs": [
        {
          "output_type": "execute_result",
          "data": {
            "text/plain": [
              "<matplotlib.axes._subplots.AxesSubplot at 0x7f74c6930e90>"
            ]
          },
          "metadata": {},
          "execution_count": 118
        },
        {
          "output_type": "display_data",
          "data": {
            "text/plain": [
              "<Figure size 432x288 with 1 Axes>"
            ],
            "image/png": "[encoded data removed]"
          },
          "metadata": {
            "needs_background": "light"
          }
        }
      ]
    },
    {
      "cell_type": "code",
      "source": [
        "#will be used if any ananlysis regarding this data\n",
        "#batas_bawah1, batas_atas1 = get_IQR(data_combine['order_process_time'])\n",
        "#data_combine = data_combine[(data_combine['order_process_time']>batas_bawah1) & (data_combine['order_process_time']<batas_atas1)]"
      ],
      "metadata": {
        "id": "ExrLtolWvI50"
      },
      "execution_count": null,
      "outputs": []
    },
    {
      "cell_type": "markdown",
      "source": [
        "### 1.6.3 Outlier Handling pada order_delivery_time"
      ],
      "metadata": {
        "id": "zcMPMLjbvsVc"
      }
    },
    {
      "cell_type": "code",
      "source": [
        "#Melihat ouliers pada order_delivery_time\n",
        "sns.boxplot(x=data_combine[\"order_delivery_time\"])"
      ],
      "metadata": {
        "colab": {
          "base_uri": "https://localhost:8080/",
          "height": 296
        },
        "id": "wjJjADmUvfmX",
        "outputId": "6b254abe-4f48-49ef-c6b4-6a191f8ee784"
      },
      "execution_count": null,
      "outputs": [
        {
          "output_type": "execute_result",
          "data": {
            "text/plain": [
              "<matplotlib.axes._subplots.AxesSubplot at 0x7f868a3af810>"
            ]
          },
          "metadata": {},
          "execution_count": 24
        },
        {
          "output_type": "display_data",
          "data": {
            "text/plain": [
              "<Figure size 432x288 with 1 Axes>"
            ],
            "image/png": "[encoded data removed]"
          },
          "metadata": {
            "needs_background": "light"
          }
        }
      ]
    },
    {
      "cell_type": "code",
      "source": [
        "#will be used if any ananlysis regarding this data\n",
        "#batas_bawah2, batas_atas2 = get_IQR(data_combine['order_delivery_time'])\n",
        "#data_combine = data_combine[(data_combine['order_delivery_time']>batas_bawah2) & (data_combine['order_delivery_time']<batas_atas2)]"
      ],
      "metadata": {
        "id": "HDw1Yw0_v9FR"
      },
      "execution_count": null,
      "outputs": []
    },
    {
      "cell_type": "markdown",
      "source": [
        "### 1.6.4 Outlier Handling pada order accuracy time"
      ],
      "metadata": {
        "id": "SRlJ_XO-wKxi"
      }
    },
    {
      "cell_type": "code",
      "source": [
        "#Outliers on order_accuracy_time\n",
        "sns.boxplot(x=data_combine[\"order_accuracy_time\"])"
      ],
      "metadata": {
        "colab": {
          "base_uri": "https://localhost:8080/",
          "height": 296
        },
        "id": "ZeuHK6aXwUTg",
        "outputId": "1efc8173-bfd7-4e49-8c36-7831cde5f693"
      },
      "execution_count": null,
      "outputs": [
        {
          "output_type": "execute_result",
          "data": {
            "text/plain": [
              "<matplotlib.axes._subplots.AxesSubplot at 0x7f868a5352d0>"
            ]
          },
          "metadata": {},
          "execution_count": 25
        },
        {
          "output_type": "display_data",
          "data": {
            "text/plain": [
              "<Figure size 432x288 with 1 Axes>"
            ],
            "image/png": "[encoded data removed]"
          },
          "metadata": {
            "needs_background": "light"
          }
        }
      ]
    },
    {
      "cell_type": "code",
      "source": [
        "#batas_bawah3, batas_atas3 = get_IQR(data_combine['order_accuracy_time'])\n",
        "#data_combine = data_combine[(data_combine['order_accuracy_time']>batas_bawah3) & (data_combine['order_accuracy_time']<batas_atas3)]"
      ],
      "metadata": {
        "id": "-g84jEAkwc9I"
      },
      "execution_count": null,
      "outputs": []
    },
    {
      "cell_type": "markdown",
      "source": [
        "### 1.6.5 Outlier Handling pada order approved time"
      ],
      "metadata": {
        "id": "mB0ryYdZwzG1"
      }
    },
    {
      "cell_type": "code",
      "source": [
        "#Outliers on order_approved_time\n",
        "sns.boxplot(x=data_combine[\"order_approved_time\"])"
      ],
      "metadata": {
        "colab": {
          "base_uri": "https://localhost:8080/",
          "height": 296
        },
        "id": "53V5W5x8wxCz",
        "outputId": "9b3982df-7f8d-4702-d9b9-403db9813a99"
      },
      "execution_count": null,
      "outputs": [
        {
          "output_type": "execute_result",
          "data": {
            "text/plain": [
              "<matplotlib.axes._subplots.AxesSubplot at 0x7f868a62b750>"
            ]
          },
          "metadata": {},
          "execution_count": 26
        },
        {
          "output_type": "display_data",
          "data": {
            "text/plain": [
              "<Figure size 432x288 with 1 Axes>"
            ],
            "image/png": "[encoded data removed]"
          },
          "metadata": {
            "needs_background": "light"
          }
        }
      ]
    },
    {
      "cell_type": "code",
      "source": [
        "#batas_bawah4, batas_atas4 = get_IQR(data_combine['order_approved_time'])\n",
        "#data_combine = data_combine[(data_combine['order_approved_time']>batas_bawah4) & (data_combine['order_approved_time']<batas_atas4)]"
      ],
      "metadata": {
        "id": "J1rKru2oxMKn"
      },
      "execution_count": null,
      "outputs": []
    },
    {
      "cell_type": "markdown",
      "source": [
        "# **3. EDA**"
      ],
      "metadata": {
        "id": "5qQsoeiLK86a"
      }
    },
    {
      "cell_type": "markdown",
      "source": [
        "## **3.1 Evaluate Descriptive Statistic**\n",
        "\n",
        "\n",
        "\n"
      ],
      "metadata": {
        "id": "S2AU3BZ3ToG9"
      }
    },
    {
      "cell_type": "code",
      "source": [
        "data_combine[['payment_value','order_process_time','order_delivery_time','order_accuracy_time','order_approved_time']].describe()"
      ],
      "metadata": {
        "id": "X9W3n25EUBdm",
        "colab": {
          "base_uri": "https://localhost:8080/",
          "height": 300
        },
        "outputId": "f40924e4-79c6-4d64-9e8f-b0d1aac879f8"
      },
      "execution_count": null,
      "outputs": [
        {
          "output_type": "execute_result",
          "data": {
            "text/plain": [
              "       payment_value  order_process_time  order_delivery_time  \\\n",
              "count   95570.000000        95570.000000         95570.000000   \n",
              "mean      110.025872           11.867961             8.771351   \n",
              "std        72.733686            9.262559             8.535225   \n",
              "min         0.000000            0.000000           -17.000000   \n",
              "25%        54.000000            6.000000             4.000000   \n",
              "50%        92.200000           10.000000             7.000000   \n",
              "75%       150.540000           15.000000            11.000000   \n",
              "max       344.230000          209.000000           205.000000   \n",
              "\n",
              "       order_accuracy_time  order_approved_time  \n",
              "count         95570.000000         95570.000000  \n",
              "mean             10.870357             0.259715  \n",
              "std               9.964529             0.762954  \n",
              "min            -189.000000             0.000000  \n",
              "25%               6.000000             0.000000  \n",
              "50%              11.000000             0.000000  \n",
              "75%              16.000000             0.000000  \n",
              "max             146.000000            60.000000  "
            ],
            "text/html": [
              "\n",
              "  <div id=\"df-02d42e66-8e90-46ac-9b90-387c46b33aba\">\n",
              "    <div class=\"colab-df-container\">\n",
              "      <div>\n",
              "<style scoped>\n",
              "    .dataframe tbody tr th:only-of-type {\n",
              "        vertical-align: middle;\n",
              "    }\n",
              "\n",
              "    .dataframe tbody tr th {\n",
              "        vertical-align: top;\n",
              "    }\n",
              "\n",
              "    .dataframe thead th {\n",
              "        text-align: right;\n",
              "    }\n",
              "</style>\n",
              "<table border=\"1\" class=\"dataframe\">\n",
              "  <thead>\n",
              "    <tr style=\"text-align: right;\">\n",
              "      <th></th>\n",
              "      <th>payment_value</th>\n",
              "      <th>order_process_time</th>\n",
              "      <th>order_delivery_time</th>\n",
              "      <th>order_accuracy_time</th>\n",
              "      <th>order_approved_time</th>\n",
              "    </tr>\n",
              "  </thead>\n",
              "  <tbody>\n",
              "    <tr>\n",
              "      <th>count</th>\n",
              "      <td>95570.000000</td>\n",
              "      <td>95570.000000</td>\n",
              "      <td>95570.000000</td>\n",
              "      <td>95570.000000</td>\n",
              "      <td>95570.000000</td>\n",
              "    </tr>\n",
              "    <tr>\n",
              "      <th>mean</th>\n",
              "      <td>110.025872</td>\n",
              "      <td>11.867961</td>\n",
              "      <td>8.771351</td>\n",
              "      <td>10.870357</td>\n",
              "      <td>0.259715</td>\n",
              "    </tr>\n",
              "    <tr>\n",
              "      <th>std</th>\n",
              "      <td>72.733686</td>\n",
              "      <td>9.262559</td>\n",
              "      <td>8.535225</td>\n",
              "      <td>9.964529</td>\n",
              "      <td>0.762954</td>\n",
              "    </tr>\n",
              "    <tr>\n",
              "      <th>min</th>\n",
              "      <td>0.000000</td>\n",
              "      <td>0.000000</td>\n",
              "      <td>-17.000000</td>\n",
              "      <td>-189.000000</td>\n",
              "      <td>0.000000</td>\n",
              "    </tr>\n",
              "    <tr>\n",
              "      <th>25%</th>\n",
              "      <td>54.000000</td>\n",
              "      <td>6.000000</td>\n",
              "      <td>4.000000</td>\n",
              "      <td>6.000000</td>\n",
              "      <td>0.000000</td>\n",
              "    </tr>\n",
              "    <tr>\n",
              "      <th>50%</th>\n",
              "      <td>92.200000</td>\n",
              "      <td>10.000000</td>\n",
              "      <td>7.000000</td>\n",
              "      <td>11.000000</td>\n",
              "      <td>0.000000</td>\n",
              "    </tr>\n",
              "    <tr>\n",
              "      <th>75%</th>\n",
              "      <td>150.540000</td>\n",
              "      <td>15.000000</td>\n",
              "      <td>11.000000</td>\n",
              "      <td>16.000000</td>\n",
              "      <td>0.000000</td>\n",
              "    </tr>\n",
              "    <tr>\n",
              "      <th>max</th>\n",
              "      <td>344.230000</td>\n",
              "      <td>209.000000</td>\n",
              "      <td>205.000000</td>\n",
              "      <td>146.000000</td>\n",
              "      <td>60.000000</td>\n",
              "    </tr>\n",
              "  </tbody>\n",
              "</table>\n",
              "</div>\n",
              "      <button class=\"colab-df-convert\" onclick=\"convertToInteractive('df-02d42e66-8e90-46ac-9b90-387c46b33aba')\"\n",
              "              title=\"Convert this dataframe to an interactive table.\"\n",
              "              style=\"display:none;\">\n",
              "        \n",
              "  <svg xmlns=\"http://www.w3.org/2000/svg\" height=\"24px\"viewBox=\"0 0 24 24\"\n",
              "       width=\"24px\">\n",
              "    <path d=\"M0 0h24v24H0V0z\" fill=\"none\"/>\n",
              "    <path d=\"M18.56 5.44l.94 2.06.94-2.06 2.06-.94-2.06-.94-.94-2.06-.94 2.06-2.06.94zm-11 1L8.5 8.5l.94-2.06 2.06-.94-2.06-.94L8.5 2.5l-.94 2.06-2.06.94zm10 10l.94 2.06.94-2.06 2.06-.94-2.06-.94-.94-2.06-.94 2.06-2.06.94z\"/><path d=\"M17.41 7.96l-1.37-1.37c-.4-.4-.92-.59-1.43-.59-.52 0-1.04.2-1.43.59L10.3 9.45l-7.72 7.72c-.78.78-.78 2.05 0 2.83L4 21.41c.39.39.9.59 1.41.59.51 0 1.02-.2 1.41-.59l7.78-7.78 2.81-2.81c.8-.78.8-2.07 0-2.86zM5.41 20L4 18.59l7.72-7.72 1.47 1.35L5.41 20z\"/>\n",
              "  </svg>\n",
              "      </button>\n",
              "      \n",
              "  <style>\n",
              "    .colab-df-container {\n",
              "      display:flex;\n",
              "      flex-wrap:wrap;\n",
              "      gap: 12px;\n",
              "    }\n",
              "\n",
              "    .colab-df-convert {\n",
              "      background-color: #E8F0FE;\n",
              "      border: none;\n",
              "      border-radius: 50%;\n",
              "      cursor: pointer;\n",
              "      display: none;\n",
              "      fill: #1967D2;\n",
              "      height: 32px;\n",
              "      padding: 0 0 0 0;\n",
              "      width: 32px;\n",
              "    }\n",
              "\n",
              "    .colab-df-convert:hover {\n",
              "      background-color: #E2EBFA;\n",
              "      box-shadow: 0px 1px 2px rgba(60, 64, 67, 0.3), 0px 1px 3px 1px rgba(60, 64, 67, 0.15);\n",
              "      fill: #174EA6;\n",
              "    }\n",
              "\n",
              "    [theme=dark] .colab-df-convert {\n",
              "      background-color: #3B4455;\n",
              "      fill: #D2E3FC;\n",
              "    }\n",
              "\n",
              "    [theme=dark] .colab-df-convert:hover {\n",
              "      background-color: #434B5C;\n",
              "      box-shadow: 0px 1px 3px 1px rgba(0, 0, 0, 0.15);\n",
              "      filter: drop-shadow(0px 1px 2px rgba(0, 0, 0, 0.3));\n",
              "      fill: #FFFFFF;\n",
              "    }\n",
              "  </style>\n",
              "\n",
              "      <script>\n",
              "        const buttonEl =\n",
              "          document.querySelector('#df-02d42e66-8e90-46ac-9b90-387c46b33aba button.colab-df-convert');\n",
              "        buttonEl.style.display =\n",
              "          google.colab.kernel.accessAllowed ? 'block' : 'none';\n",
              "\n",
              "        async function convertToInteractive(key) {\n",
              "          const element = document.querySelector('#df-02d42e66-8e90-46ac-9b90-387c46b33aba');\n",
              "          const dataTable =\n",
              "            await google.colab.kernel.invokeFunction('convertToInteractive',\n",
              "                                                     [key], {});\n",
              "          if (!dataTable) return;\n",
              "\n",
              "          const docLinkHtml = 'Like what you see? Visit the ' +\n",
              "            '<a target=\"_blank\" href=https://colab.research.google.com/notebooks/data_table.ipynb>data table notebook</a>'\n",
              "            + ' to learn more about interactive tables.';\n",
              "          element.innerHTML = '';\n",
              "          dataTable['output_type'] = 'display_data';\n",
              "          await google.colab.output.renderOutput(dataTable, element);\n",
              "          const docLink = document.createElement('div');\n",
              "          docLink.innerHTML = docLinkHtml;\n",
              "          element.appendChild(docLink);\n",
              "        }\n",
              "      </script>\n",
              "    </div>\n",
              "  </div>\n",
              "  "
            ]
          },
          "metadata": {},
          "execution_count": 27
        }
      ]
    },
    {
      "cell_type": "markdown",
      "source": [
        "Range"
      ],
      "metadata": {
        "id": "LmhTn5eUfkwK"
      }
    },
    {
      "cell_type": "code",
      "source": [
        "range_pv = max(data_combine['payment_value'])-min(data_combine['payment_value'])\n",
        "range_op = max(data_combine['order_process_time'])-min(data_combine['order_process_time'])\n",
        "range_od = max(data_combine['order_delivery_time'])-min(data_combine['order_delivery_time'])\n",
        "range_oa = max(data_combine['order_accuracy_time'])-min(data_combine['order_accuracy_time'])\n",
        "range_ap = max(data_combine['order_approved_time'])-min(data_combine['order_approved_time'])\n",
        "\n",
        "print('range payment_value = ',range_pv)\n",
        "print('range order_process_time = ',range_op)\n",
        "print('range actual_delivery =',range_od)\n",
        "print('range order_accuracy_time =',range_oa)\n",
        "print('order_approved_time =',range_ap)"
      ],
      "metadata": {
        "colab": {
          "base_uri": "https://localhost:8080/"
        },
        "id": "jPQwwBF_fSHT",
        "outputId": "b65ed056-45b9-4abe-843d-71411c984152"
      },
      "execution_count": null,
      "outputs": [
        {
          "output_type": "stream",
          "name": "stdout",
          "text": [
            "range payment_value =  344.23\n",
            "range order_process_time =  209\n",
            "range actual_delivery = 222\n",
            "range order_accuracy_time = 335\n",
            "order_approved_time = 60\n"
          ]
        }
      ]
    },
    {
      "cell_type": "markdown",
      "source": [
        "Variance"
      ],
      "metadata": {
        "id": "S_nCDHCefmRK"
      }
    },
    {
      "cell_type": "code",
      "source": [
        "var_pv = statistics.variance(data_combine['payment_value'])\n",
        "var_op = statistics.variance(data_combine['order_process_time'])\n",
        "var_od = statistics.variance(data_combine['order_delivery_time'])\n",
        "var_oa = statistics.variance(data_combine['order_accuracy_time'])\n",
        "var_ap = statistics.variance(data_combine['order_approved_time'])\n",
        "\n",
        "print('var of payment_value = ',var_pv)\n",
        "print('var of order_process_time = ',var_op)\n",
        "print('var of range actual_delivery =',var_od)\n",
        "print('var of range order_accuracy_time',var_oa)\n",
        "print('var of order_approved_time=',var_ap)\n"
      ],
      "metadata": {
        "colab": {
          "base_uri": "https://localhost:8080/"
        },
        "id": "nQ0kq69ufoip",
        "outputId": "4a60e124-7375-4d1b-c501-6df9b60fe8ba"
      },
      "execution_count": null,
      "outputs": [
        {
          "output_type": "stream",
          "name": "stdout",
          "text": [
            "var of payment_value =  5290.189098916933\n",
            "var of order_process_time =  85.79500460957078\n",
            "var of range actual_delivery = 72.85006182555281\n",
            "var of range order_accuracy_time 99.29183857561445\n",
            "var of order_approved_time= 0.582098842288384\n"
          ]
        }
      ]
    },
    {
      "cell_type": "markdown",
      "source": [
        "Coefficient of variance"
      ],
      "metadata": {
        "id": "Cae-YjWofn1t"
      }
    },
    {
      "cell_type": "code",
      "source": [
        "cov_pv = np.std(data_combine['payment_value'])/np.mean(data_combine['payment_value'])\n",
        "cov_op = np.std(data_combine['order_process_time'])/np.mean(data_combine['order_process_time'])\n",
        "cov_od = np.std(data_combine['order_delivery_time'])/np.mean(data_combine['order_delivery_time'])\n",
        "cov_oa = np.std(data_combine['order_accuracy_time'])/np.mean(data_combine['order_accuracy_time'])\n",
        "cov_ap = np.std(data_combine['order_approved_time'])/np.mean(data_combine['order_approved_time'])\n",
        "\n",
        "print('coef of variance payment_value = ',cov_pv)\n",
        "print('coef of variance order_process_time = ',cov_op)\n",
        "print('coef of variance order_delivery_time = ',cov_od)\n",
        "print('coef of variance order_accuracy_time = ',cov_oa)\n",
        "print('coef of variance order_approved_time = ',cov_ap)"
      ],
      "metadata": {
        "colab": {
          "base_uri": "https://localhost:8080/"
        },
        "id": "tDL4It-ufuQH",
        "outputId": "14081a9a-c030-4c06-9b3b-107d4fe9200a"
      },
      "execution_count": null,
      "outputs": [
        {
          "output_type": "stream",
          "name": "stdout",
          "text": [
            "coef of variance payment_value =  0.6610563891544999\n",
            "coef of variance order_process_time =  0.7804635605397336\n",
            "coef of variance order_delivery_time =  0.9730747596523013\n",
            "coef of variance order_accuracy_time =  0.9166651163684357\n",
            "coef of variance order_approved_time =  2.9376388770594897\n"
          ]
        }
      ]
    },
    {
      "cell_type": "markdown",
      "source": [
        "Skewness"
      ],
      "metadata": {
        "id": "3cosio_Hftbl"
      }
    },
    {
      "cell_type": "code",
      "source": [
        "data_combine[['payment_value','order_process_time','order_delivery_time','order_accuracy_time','order_approved_time']].skew()"
      ],
      "metadata": {
        "colab": {
          "base_uri": "https://localhost:8080/"
        },
        "id": "UvTOEXhyfy2J",
        "outputId": "bee1c199-5357-4ec3-bd9e-6254b183e8b1"
      },
      "execution_count": null,
      "outputs": [
        {
          "output_type": "execute_result",
          "data": {
            "text/plain": [
              "payment_value           0.995866\n",
              "order_process_time      3.758028\n",
              "order_delivery_time     4.473843\n",
              "order_accuracy_time    -1.848201\n",
              "order_approved_time    11.203160\n",
              "dtype: float64"
            ]
          },
          "metadata": {},
          "execution_count": 31
        }
      ]
    },
    {
      "cell_type": "markdown",
      "source": [
        "Kurtosis"
      ],
      "metadata": {
        "id": "_1fmVu6nfzXp"
      }
    },
    {
      "cell_type": "code",
      "source": [
        "data_combine[['payment_value','order_process_time','order_delivery_time','order_accuracy_time','order_approved_time']].kurtosis()"
      ],
      "metadata": {
        "colab": {
          "base_uri": "https://localhost:8080/"
        },
        "id": "Ipmm0A7YgXkc",
        "outputId": "188f7df9-9948-4d26-a6cd-d66f0df1367c"
      },
      "execution_count": null,
      "outputs": [
        {
          "output_type": "execute_result",
          "data": {
            "text/plain": [
              "payment_value            0.486810\n",
              "order_process_time      37.842943\n",
              "order_delivery_time     51.384689\n",
              "order_accuracy_time     27.027019\n",
              "order_approved_time    510.916758\n",
              "dtype: float64"
            ]
          },
          "metadata": {},
          "execution_count": 32
        }
      ]
    },
    {
      "cell_type": "markdown",
      "source": [
        "## **3.2 Time Series Analysis and Visualization**"
      ],
      "metadata": {
        "id": "sDShWcKjTvlu"
      }
    },
    {
      "cell_type": "markdown",
      "source": [
        "### **3.2.1 Monthly Order**"
      ],
      "metadata": {
        "id": "jA1ghtmIhv9t"
      }
    },
    {
      "cell_type": "code",
      "source": [
        "monthly = data_combine.groupby('Month_order',as_index=False).count()[['order_id','Month_order']]\n",
        "monthly.head()"
      ],
      "metadata": {
        "id": "73ylRenpRUfk",
        "colab": {
          "base_uri": "https://localhost:8080/",
          "height": 206
        },
        "outputId": "d608d1a8-661d-4cce-c9ef-4e86552a7e8a"
      },
      "execution_count": null,
      "outputs": [
        {
          "output_type": "execute_result",
          "data": {
            "text/plain": [
              "   order_id Month_order\n",
              "0       754     2017-01\n",
              "1      1738     2017-02\n",
              "2      2610     2017-03\n",
              "3      2353     2017-04\n",
              "4      3642     2017-05"
            ],
            "text/html": [
              "\n",
              "  <div id=\"df-cf2932de-037f-478e-b893-57a101f24f82\">\n",
              "    <div class=\"colab-df-container\">\n",
              "      <div>\n",
              "<style scoped>\n",
              "    .dataframe tbody tr th:only-of-type {\n",
              "        vertical-align: middle;\n",
              "    }\n",
              "\n",
              "    .dataframe tbody tr th {\n",
              "        vertical-align: top;\n",
              "    }\n",
              "\n",
              "    .dataframe thead th {\n",
              "        text-align: right;\n",
              "    }\n",
              "</style>\n",
              "<table border=\"1\" class=\"dataframe\">\n",
              "  <thead>\n",
              "    <tr style=\"text-align: right;\">\n",
              "      <th></th>\n",
              "      <th>order_id</th>\n",
              "      <th>Month_order</th>\n",
              "    </tr>\n",
              "  </thead>\n",
              "  <tbody>\n",
              "    <tr>\n",
              "      <th>0</th>\n",
              "      <td>754</td>\n",
              "      <td>2017-01</td>\n",
              "    </tr>\n",
              "    <tr>\n",
              "      <th>1</th>\n",
              "      <td>1738</td>\n",
              "      <td>2017-02</td>\n",
              "    </tr>\n",
              "    <tr>\n",
              "      <th>2</th>\n",
              "      <td>2610</td>\n",
              "      <td>2017-03</td>\n",
              "    </tr>\n",
              "    <tr>\n",
              "      <th>3</th>\n",
              "      <td>2353</td>\n",
              "      <td>2017-04</td>\n",
              "    </tr>\n",
              "    <tr>\n",
              "      <th>4</th>\n",
              "      <td>3642</td>\n",
              "      <td>2017-05</td>\n",
              "    </tr>\n",
              "  </tbody>\n",
              "</table>\n",
              "</div>\n",
              "      <button class=\"colab-df-convert\" onclick=\"convertToInteractive('df-cf2932de-037f-478e-b893-57a101f24f82')\"\n",
              "              title=\"Convert this dataframe to an interactive table.\"\n",
              "              style=\"display:none;\">\n",
              "        \n",
              "  <svg xmlns=\"http://www.w3.org/2000/svg\" height=\"24px\"viewBox=\"0 0 24 24\"\n",
              "       width=\"24px\">\n",
              "    <path d=\"M0 0h24v24H0V0z\" fill=\"none\"/>\n",
              "    <path d=\"M18.56 5.44l.94 2.06.94-2.06 2.06-.94-2.06-.94-.94-2.06-.94 2.06-2.06.94zm-11 1L8.5 8.5l.94-2.06 2.06-.94-2.06-.94L8.5 2.5l-.94 2.06-2.06.94zm10 10l.94 2.06.94-2.06 2.06-.94-2.06-.94-.94-2.06-.94 2.06-2.06.94z\"/><path d=\"M17.41 7.96l-1.37-1.37c-.4-.4-.92-.59-1.43-.59-.52 0-1.04.2-1.43.59L10.3 9.45l-7.72 7.72c-.78.78-.78 2.05 0 2.83L4 21.41c.39.39.9.59 1.41.59.51 0 1.02-.2 1.41-.59l7.78-7.78 2.81-2.81c.8-.78.8-2.07 0-2.86zM5.41 20L4 18.59l7.72-7.72 1.47 1.35L5.41 20z\"/>\n",
              "  </svg>\n",
              "      </button>\n",
              "      \n",
              "  <style>\n",
              "    .colab-df-container {\n",
              "      display:flex;\n",
              "      flex-wrap:wrap;\n",
              "      gap: 12px;\n",
              "    }\n",
              "\n",
              "    .colab-df-convert {\n",
              "      background-color: #E8F0FE;\n",
              "      border: none;\n",
              "      border-radius: 50%;\n",
              "      cursor: pointer;\n",
              "      display: none;\n",
              "      fill: #1967D2;\n",
              "      height: 32px;\n",
              "      padding: 0 0 0 0;\n",
              "      width: 32px;\n",
              "    }\n",
              "\n",
              "    .colab-df-convert:hover {\n",
              "      background-color: #E2EBFA;\n",
              "      box-shadow: 0px 1px 2px rgba(60, 64, 67, 0.3), 0px 1px 3px 1px rgba(60, 64, 67, 0.15);\n",
              "      fill: #174EA6;\n",
              "    }\n",
              "\n",
              "    [theme=dark] .colab-df-convert {\n",
              "      background-color: #3B4455;\n",
              "      fill: #D2E3FC;\n",
              "    }\n",
              "\n",
              "    [theme=dark] .colab-df-convert:hover {\n",
              "      background-color: #434B5C;\n",
              "      box-shadow: 0px 1px 3px 1px rgba(0, 0, 0, 0.15);\n",
              "      filter: drop-shadow(0px 1px 2px rgba(0, 0, 0, 0.3));\n",
              "      fill: #FFFFFF;\n",
              "    }\n",
              "  </style>\n",
              "\n",
              "      <script>\n",
              "        const buttonEl =\n",
              "          document.querySelector('#df-cf2932de-037f-478e-b893-57a101f24f82 button.colab-df-convert');\n",
              "        buttonEl.style.display =\n",
              "          google.colab.kernel.accessAllowed ? 'block' : 'none';\n",
              "\n",
              "        async function convertToInteractive(key) {\n",
              "          const element = document.querySelector('#df-cf2932de-037f-478e-b893-57a101f24f82');\n",
              "          const dataTable =\n",
              "            await google.colab.kernel.invokeFunction('convertToInteractive',\n",
              "                                                     [key], {});\n",
              "          if (!dataTable) return;\n",
              "\n",
              "          const docLinkHtml = 'Like what you see? Visit the ' +\n",
              "            '<a target=\"_blank\" href=https://colab.research.google.com/notebooks/data_table.ipynb>data table notebook</a>'\n",
              "            + ' to learn more about interactive tables.';\n",
              "          element.innerHTML = '';\n",
              "          dataTable['output_type'] = 'display_data';\n",
              "          await google.colab.output.renderOutput(dataTable, element);\n",
              "          const docLink = document.createElement('div');\n",
              "          docLink.innerHTML = docLinkHtml;\n",
              "          element.appendChild(docLink);\n",
              "        }\n",
              "      </script>\n",
              "    </div>\n",
              "  </div>\n",
              "  "
            ]
          },
          "metadata": {},
          "execution_count": 33
        }
      ]
    },
    {
      "cell_type": "code",
      "source": [
        "plt.figure(figsize = (15,8))\n",
        "plt.xticks(rotation=45)\n",
        "ax = sns.barplot(x='Month_order', y='order_id', data=monthly, palette=\"Greens_d\")"
      ],
      "metadata": {
        "id": "heeAM5OBhz_u",
        "colab": {
          "base_uri": "https://localhost:8080/",
          "height": 520
        },
        "outputId": "6bf9cea7-cd96-4ab5-c615-fab01c6d82b1"
      },
      "execution_count": null,
      "outputs": [
        {
          "output_type": "display_data",
          "data": {
            "text/plain": [
              "<Figure size 1080x576 with 1 Axes>"
            ],
            "image/png": "[encoded data removed]"
          },
          "metadata": {
            "needs_background": "light"
          }
        }
      ]
    },
    {
      "cell_type": "markdown",
      "source": [
        "### **3.2.2 Daily Order Trends**"
      ],
      "metadata": {
        "id": "F0Wn7ZlPh3a9"
      }
    },
    {
      "cell_type": "code",
      "source": [
        "daily_order = data_combine.groupby(['Month_order','daily_order'],as_index=False)[['order_id']].agg('count')"
      ],
      "metadata": {
        "id": "XP_wQUBroH6f"
      },
      "execution_count": null,
      "outputs": []
    },
    {
      "cell_type": "code",
      "source": [
        "daily_order2 = daily_order.groupby(['daily_order'],as_index=False)[['daily_order','order_id']].agg('mean')"
      ],
      "metadata": {
        "id": "rpo7qQD_ofXM"
      },
      "execution_count": null,
      "outputs": []
    },
    {
      "cell_type": "code",
      "source": [
        "plt.figure(figsize = (15,8))\n",
        "plt.xticks(rotation=45)\n",
        "ax = sns.barplot(x='daily_order', y='order_id', data=daily_order2, palette=\"Greens_d\", order=['Monday', 'Tuesday', 'Wednesday', 'Thursday', 'Friday', 'Saturday', 'Sunday'])"
      ],
      "metadata": {
        "colab": {
          "base_uri": "https://localhost:8080/",
          "height": 531
        },
        "id": "amPfx7kBmccl",
        "outputId": "389fafb7-da9a-47f2-c5e0-2bc31b500244"
      },
      "execution_count": null,
      "outputs": [
        {
          "output_type": "display_data",
          "data": {
            "text/plain": [
              "<Figure size 1080x576 with 1 Axes>"
            ],
            "image/png": "[encoded data removed]"
          },
          "metadata": {
            "needs_background": "light"
          }
        }
      ]
    },
    {
      "cell_type": "markdown",
      "source": [
        "### **3.2.3 Payment Percentage**"
      ],
      "metadata": {
        "id": "3mlctQOlh-oJ"
      }
    },
    {
      "cell_type": "code",
      "source": [
        "payment = data_combine.groupby('payment_type',as_index = False)['order_id'].nunique()\n",
        "payment"
      ],
      "metadata": {
        "id": "GOjJ7e_aiF2r",
        "colab": {
          "base_uri": "https://localhost:8080/",
          "height": 206
        },
        "outputId": "4e9c4d88-6d31-40bc-ae66-e8f84ba149c3"
      },
      "execution_count": null,
      "outputs": [
        {
          "output_type": "execute_result",
          "data": {
            "text/plain": [
              "  payment_type  order_id\n",
              "0       boleto     18444\n",
              "1  credit_card     69801\n",
              "2   debit_card      1441\n",
              "3  not_defined         2\n",
              "4      voucher      3763"
            ],
            "text/html": [
              "\n",
              "  <div id=\"df-5ac02b12-e4b2-4f2c-bdeb-22e0f1e9058f\">\n",
              "    <div class=\"colab-df-container\">\n",
              "      <div>\n",
              "<style scoped>\n",
              "    .dataframe tbody tr th:only-of-type {\n",
              "        vertical-align: middle;\n",
              "    }\n",
              "\n",
              "    .dataframe tbody tr th {\n",
              "        vertical-align: top;\n",
              "    }\n",
              "\n",
              "    .dataframe thead th {\n",
              "        text-align: right;\n",
              "    }\n",
              "</style>\n",
              "<table border=\"1\" class=\"dataframe\">\n",
              "  <thead>\n",
              "    <tr style=\"text-align: right;\">\n",
              "      <th></th>\n",
              "      <th>payment_type</th>\n",
              "      <th>order_id</th>\n",
              "    </tr>\n",
              "  </thead>\n",
              "  <tbody>\n",
              "    <tr>\n",
              "      <th>0</th>\n",
              "      <td>boleto</td>\n",
              "      <td>18444</td>\n",
              "    </tr>\n",
              "    <tr>\n",
              "      <th>1</th>\n",
              "      <td>credit_card</td>\n",
              "      <td>69801</td>\n",
              "    </tr>\n",
              "    <tr>\n",
              "      <th>2</th>\n",
              "      <td>debit_card</td>\n",
              "      <td>1441</td>\n",
              "    </tr>\n",
              "    <tr>\n",
              "      <th>3</th>\n",
              "      <td>not_defined</td>\n",
              "      <td>2</td>\n",
              "    </tr>\n",
              "    <tr>\n",
              "      <th>4</th>\n",
              "      <td>voucher</td>\n",
              "      <td>3763</td>\n",
              "    </tr>\n",
              "  </tbody>\n",
              "</table>\n",
              "</div>\n",
              "      <button class=\"colab-df-convert\" onclick=\"convertToInteractive('df-5ac02b12-e4b2-4f2c-bdeb-22e0f1e9058f')\"\n",
              "              title=\"Convert this dataframe to an interactive table.\"\n",
              "              style=\"display:none;\">\n",
              "        \n",
              "  <svg xmlns=\"http://www.w3.org/2000/svg\" height=\"24px\"viewBox=\"0 0 24 24\"\n",
              "       width=\"24px\">\n",
              "    <path d=\"M0 0h24v24H0V0z\" fill=\"none\"/>\n",
              "    <path d=\"M18.56 5.44l.94 2.06.94-2.06 2.06-.94-2.06-.94-.94-2.06-.94 2.06-2.06.94zm-11 1L8.5 8.5l.94-2.06 2.06-.94-2.06-.94L8.5 2.5l-.94 2.06-2.06.94zm10 10l.94 2.06.94-2.06 2.06-.94-2.06-.94-.94-2.06-.94 2.06-2.06.94z\"/><path d=\"M17.41 7.96l-1.37-1.37c-.4-.4-.92-.59-1.43-.59-.52 0-1.04.2-1.43.59L10.3 9.45l-7.72 7.72c-.78.78-.78 2.05 0 2.83L4 21.41c.39.39.9.59 1.41.59.51 0 1.02-.2 1.41-.59l7.78-7.78 2.81-2.81c.8-.78.8-2.07 0-2.86zM5.41 20L4 18.59l7.72-7.72 1.47 1.35L5.41 20z\"/>\n",
              "  </svg>\n",
              "      </button>\n",
              "      \n",
              "  <style>\n",
              "    .colab-df-container {\n",
              "      display:flex;\n",
              "      flex-wrap:wrap;\n",
              "      gap: 12px;\n",
              "    }\n",
              "\n",
              "    .colab-df-convert {\n",
              "      background-color: #E8F0FE;\n",
              "      border: none;\n",
              "      border-radius: 50%;\n",
              "      cursor: pointer;\n",
              "      display: none;\n",
              "      fill: #1967D2;\n",
              "      height: 32px;\n",
              "      padding: 0 0 0 0;\n",
              "      width: 32px;\n",
              "    }\n",
              "\n",
              "    .colab-df-convert:hover {\n",
              "      background-color: #E2EBFA;\n",
              "      box-shadow: 0px 1px 2px rgba(60, 64, 67, 0.3), 0px 1px 3px 1px rgba(60, 64, 67, 0.15);\n",
              "      fill: #174EA6;\n",
              "    }\n",
              "\n",
              "    [theme=dark] .colab-df-convert {\n",
              "      background-color: #3B4455;\n",
              "      fill: #D2E3FC;\n",
              "    }\n",
              "\n",
              "    [theme=dark] .colab-df-convert:hover {\n",
              "      background-color: #434B5C;\n",
              "      box-shadow: 0px 1px 3px 1px rgba(0, 0, 0, 0.15);\n",
              "      filter: drop-shadow(0px 1px 2px rgba(0, 0, 0, 0.3));\n",
              "      fill: #FFFFFF;\n",
              "    }\n",
              "  </style>\n",
              "\n",
              "      <script>\n",
              "        const buttonEl =\n",
              "          document.querySelector('#df-5ac02b12-e4b2-4f2c-bdeb-22e0f1e9058f button.colab-df-convert');\n",
              "        buttonEl.style.display =\n",
              "          google.colab.kernel.accessAllowed ? 'block' : 'none';\n",
              "\n",
              "        async function convertToInteractive(key) {\n",
              "          const element = document.querySelector('#df-5ac02b12-e4b2-4f2c-bdeb-22e0f1e9058f');\n",
              "          const dataTable =\n",
              "            await google.colab.kernel.invokeFunction('convertToInteractive',\n",
              "                                                     [key], {});\n",
              "          if (!dataTable) return;\n",
              "\n",
              "          const docLinkHtml = 'Like what you see? Visit the ' +\n",
              "            '<a target=\"_blank\" href=https://colab.research.google.com/notebooks/data_table.ipynb>data table notebook</a>'\n",
              "            + ' to learn more about interactive tables.';\n",
              "          element.innerHTML = '';\n",
              "          dataTable['output_type'] = 'display_data';\n",
              "          await google.colab.output.renderOutput(dataTable, element);\n",
              "          const docLink = document.createElement('div');\n",
              "          docLink.innerHTML = docLinkHtml;\n",
              "          element.appendChild(docLink);\n",
              "        }\n",
              "      </script>\n",
              "    </div>\n",
              "  </div>\n",
              "  "
            ]
          },
          "metadata": {},
          "execution_count": 38
        }
      ]
    },
    {
      "cell_type": "code",
      "source": [
        "#define Seaborn color palette to use\n",
        "colors = sns.color_palette('pastel')[0:5]\n",
        "\n",
        "plt.figure(figsize = (15,8))\n",
        "\n",
        "#define data\n",
        "data = payment['order_id']\n",
        "labels= payment['payment_type']\n",
        "\n",
        "#create pie chart\n",
        "plt.title('Percentage of order per payment type', fontsize=16)\n",
        "plt.pie(data, labels=labels, colors = colors, autopct='%.0f%%')\n",
        "plt.show()"
      ],
      "metadata": {
        "colab": {
          "base_uri": "https://localhost:8080/",
          "height": 483
        },
        "id": "vWQn596ImnTk",
        "outputId": "1882e80b-a5fc-4399-eeec-7dc52cd0741e"
      },
      "execution_count": null,
      "outputs": [
        {
          "output_type": "display_data",
          "data": {
            "text/plain": [
              "<Figure size 1080x576 with 1 Axes>"
            ],
            "image/png": "[encoded data removed]"
          },
          "metadata": {}
        }
      ]
    },
    {
      "cell_type": "markdown",
      "source": [
        "# **4. DATA MODELLING**"
      ],
      "metadata": {
        "id": "V7Lb3UKkLGCI"
      }
    },
    {
      "cell_type": "markdown",
      "source": [
        "## **4.1 RFM Analysis**\n",
        "\n",
        "RFM analysis is a method used to see patterns in customers based on their buying habits:\n",
        "\n",
        "1. Recency = When was the last time the customer made a transaction\n",
        "\n",
        "2. Frequency = How often does the customer make a purchase\n",
        "\n",
        "3. Monetary = How much the customer spends money"
      ],
      "metadata": {
        "id": "_teX_6d-eacL"
      }
    },
    {
      "cell_type": "code",
      "source": [
        "#earliest and latest purchase\n",
        "print('Min : {}, Max : {}'.format(min(data_combine.order_purchase_timestamp), max(data_combine.order_purchase_timestamp)))"
      ],
      "metadata": {
        "colab": {
          "base_uri": "https://localhost:8080/"
        },
        "id": "hw_C_nA1RVOi",
        "outputId": "7a902302-a5f4-46a2-9eb5-6b8dda83cf0e"
      },
      "execution_count": null,
      "outputs": [
        {
          "output_type": "stream",
          "name": "stdout",
          "text": [
            "Min : 2017-01-05 11:56:06, Max : 2018-08-30 15:11:58\n"
          ]
        }
      ]
    },
    {
      "cell_type": "code",
      "source": [
        "#Calculate RFM\n",
        "import datetime as dt\n",
        "pin_date = max(data_combine.order_purchase_timestamp) + dt.timedelta(1)\n",
        "\n",
        "#dataframe RFM\n",
        "rfm = data_combine.groupby('customer_unique_id').agg({\n",
        "    'order_purchase_timestamp' : lambda x: (pin_date - x.max()).days,\n",
        "    'order_id' : 'count',\n",
        "    'payment_value' : 'sum'})\n",
        "\n",
        "#rename columns\n",
        "rfm.rename(columns = {'order_purchase_timestamp' : 'Recency',\n",
        "                      'order_id' : 'Frequency',\n",
        "                      'payment_value' : 'Monetary'}, inplace = True)\n",
        "\n",
        "rfm.head()"
      ],
      "metadata": {
        "colab": {
          "base_uri": "https://localhost:8080/",
          "height": 237
        },
        "id": "H9q1SE3DeVim",
        "outputId": "267a936a-8d26-4b4f-8096-8bf4da113294"
      },
      "execution_count": null,
      "outputs": [
        {
          "output_type": "execute_result",
          "data": {
            "text/plain": [
              "                                  Recency  Frequency  Monetary\n",
              "customer_unique_id                                            \n",
              "0000366f3b9a7992bf8c76cfdf3221e2      113          1    141.90\n",
              "0000b849f77a49e4a4ce2b2a4ca5be3f      116          1     27.19\n",
              "0000f46a3911fa3c0805444483337064      538          1     86.22\n",
              "0000f6ccb0745a6a4b88665a16c9f078      322          1     43.62\n",
              "0004aac84e0df4da2b147fca70cf8255      289          1    196.89"
            ],
            "text/html": [
              "\n",
              "  <div id=\"df-a30906c4-ebea-4f03-9067-55064567b5b4\">\n",
              "    <div class=\"colab-df-container\">\n",
              "      <div>\n",
              "<style scoped>\n",
              "    .dataframe tbody tr th:only-of-type {\n",
              "        vertical-align: middle;\n",
              "    }\n",
              "\n",
              "    .dataframe tbody tr th {\n",
              "        vertical-align: top;\n",
              "    }\n",
              "\n",
              "    .dataframe thead th {\n",
              "        text-align: right;\n",
              "    }\n",
              "</style>\n",
              "<table border=\"1\" class=\"dataframe\">\n",
              "  <thead>\n",
              "    <tr style=\"text-align: right;\">\n",
              "      <th></th>\n",
              "      <th>Recency</th>\n",
              "      <th>Frequency</th>\n",
              "      <th>Monetary</th>\n",
              "    </tr>\n",
              "    <tr>\n",
              "      <th>customer_unique_id</th>\n",
              "      <th></th>\n",
              "      <th></th>\n",
              "      <th></th>\n",
              "    </tr>\n",
              "  </thead>\n",
              "  <tbody>\n",
              "    <tr>\n",
              "      <th>0000366f3b9a7992bf8c76cfdf3221e2</th>\n",
              "      <td>113</td>\n",
              "      <td>1</td>\n",
              "      <td>141.90</td>\n",
              "    </tr>\n",
              "    <tr>\n",
              "      <th>0000b849f77a49e4a4ce2b2a4ca5be3f</th>\n",
              "      <td>116</td>\n",
              "      <td>1</td>\n",
              "      <td>27.19</td>\n",
              "    </tr>\n",
              "    <tr>\n",
              "      <th>0000f46a3911fa3c0805444483337064</th>\n",
              "      <td>538</td>\n",
              "      <td>1</td>\n",
              "      <td>86.22</td>\n",
              "    </tr>\n",
              "    <tr>\n",
              "      <th>0000f6ccb0745a6a4b88665a16c9f078</th>\n",
              "      <td>322</td>\n",
              "      <td>1</td>\n",
              "      <td>43.62</td>\n",
              "    </tr>\n",
              "    <tr>\n",
              "      <th>0004aac84e0df4da2b147fca70cf8255</th>\n",
              "      <td>289</td>\n",
              "      <td>1</td>\n",
              "      <td>196.89</td>\n",
              "    </tr>\n",
              "  </tbody>\n",
              "</table>\n",
              "</div>\n",
              "      <button class=\"colab-df-convert\" onclick=\"convertToInteractive('df-a30906c4-ebea-4f03-9067-55064567b5b4')\"\n",
              "              title=\"Convert this dataframe to an interactive table.\"\n",
              "              style=\"display:none;\">\n",
              "        \n",
              "  <svg xmlns=\"http://www.w3.org/2000/svg\" height=\"24px\"viewBox=\"0 0 24 24\"\n",
              "       width=\"24px\">\n",
              "    <path d=\"M0 0h24v24H0V0z\" fill=\"none\"/>\n",
              "    <path d=\"M18.56 5.44l.94 2.06.94-2.06 2.06-.94-2.06-.94-.94-2.06-.94 2.06-2.06.94zm-11 1L8.5 8.5l.94-2.06 2.06-.94-2.06-.94L8.5 2.5l-.94 2.06-2.06.94zm10 10l.94 2.06.94-2.06 2.06-.94-2.06-.94-.94-2.06-.94 2.06-2.06.94z\"/><path d=\"M17.41 7.96l-1.37-1.37c-.4-.4-.92-.59-1.43-.59-.52 0-1.04.2-1.43.59L10.3 9.45l-7.72 7.72c-.78.78-.78 2.05 0 2.83L4 21.41c.39.39.9.59 1.41.59.51 0 1.02-.2 1.41-.59l7.78-7.78 2.81-2.81c.8-.78.8-2.07 0-2.86zM5.41 20L4 18.59l7.72-7.72 1.47 1.35L5.41 20z\"/>\n",
              "  </svg>\n",
              "      </button>\n",
              "      \n",
              "  <style>\n",
              "    .colab-df-container {\n",
              "      display:flex;\n",
              "      flex-wrap:wrap;\n",
              "      gap: 12px;\n",
              "    }\n",
              "\n",
              "    .colab-df-convert {\n",
              "      background-color: #E8F0FE;\n",
              "      border: none;\n",
              "      border-radius: 50%;\n",
              "      cursor: pointer;\n",
              "      display: none;\n",
              "      fill: #1967D2;\n",
              "      height: 32px;\n",
              "      padding: 0 0 0 0;\n",
              "      width: 32px;\n",
              "    }\n",
              "\n",
              "    .colab-df-convert:hover {\n",
              "      background-color: #E2EBFA;\n",
              "      box-shadow: 0px 1px 2px rgba(60, 64, 67, 0.3), 0px 1px 3px 1px rgba(60, 64, 67, 0.15);\n",
              "      fill: #174EA6;\n",
              "    }\n",
              "\n",
              "    [theme=dark] .colab-df-convert {\n",
              "      background-color: #3B4455;\n",
              "      fill: #D2E3FC;\n",
              "    }\n",
              "\n",
              "    [theme=dark] .colab-df-convert:hover {\n",
              "      background-color: #434B5C;\n",
              "      box-shadow: 0px 1px 3px 1px rgba(0, 0, 0, 0.15);\n",
              "      filter: drop-shadow(0px 1px 2px rgba(0, 0, 0, 0.3));\n",
              "      fill: #FFFFFF;\n",
              "    }\n",
              "  </style>\n",
              "\n",
              "      <script>\n",
              "        const buttonEl =\n",
              "          document.querySelector('#df-a30906c4-ebea-4f03-9067-55064567b5b4 button.colab-df-convert');\n",
              "        buttonEl.style.display =\n",
              "          google.colab.kernel.accessAllowed ? 'block' : 'none';\n",
              "\n",
              "        async function convertToInteractive(key) {\n",
              "          const element = document.querySelector('#df-a30906c4-ebea-4f03-9067-55064567b5b4');\n",
              "          const dataTable =\n",
              "            await google.colab.kernel.invokeFunction('convertToInteractive',\n",
              "                                                     [key], {});\n",
              "          if (!dataTable) return;\n",
              "\n",
              "          const docLinkHtml = 'Like what you see? Visit the ' +\n",
              "            '<a target=\"_blank\" href=https://colab.research.google.com/notebooks/data_table.ipynb>data table notebook</a>'\n",
              "            + ' to learn more about interactive tables.';\n",
              "          element.innerHTML = '';\n",
              "          dataTable['output_type'] = 'display_data';\n",
              "          await google.colab.output.renderOutput(dataTable, element);\n",
              "          const docLink = document.createElement('div');\n",
              "          docLink.innerHTML = docLinkHtml;\n",
              "          element.appendChild(docLink);\n",
              "        }\n",
              "      </script>\n",
              "    </div>\n",
              "  </div>\n",
              "  "
            ]
          },
          "metadata": {},
          "execution_count": 40
        }
      ]
    },
    {
      "cell_type": "markdown",
      "source": [
        "## **4.2 Outlier Handling**"
      ],
      "metadata": {
        "id": "vaD2NsFheia7"
      }
    },
    {
      "cell_type": "code",
      "source": [
        "#Kita akan menggunakan Inter Quartile Range untuk menangani ouliers\n",
        "#Menentukan Limit\n",
        "def limit(i):\n",
        "    Q1 = rfm[i].quantile(0.5)\n",
        "    Q3 = rfm[i].quantile(0.95)\n",
        "    IQR = Q3 - Q1\n",
        "\n",
        "    #menentukan upper limit biasa dan upper limit ekstim\n",
        "    lower_limit = rfm[i].quantile(0.5) - (IQR * 1.5)\n",
        "    lower_limit_extreme = rfm[i].quantile(0.5) - (IQR * 3)\n",
        "    upper_limit = rfm[i].quantile(0.95) + (IQR * 1.5)\n",
        "    upper_limit_extreme = rfm[i].quantile(0.5) + (IQR * 3)\n",
        "    print('Lower Limit:', lower_limit)\n",
        "    print('Lower Limit Extreme:', lower_limit_extreme)\n",
        "    print('Upper Limit:', upper_limit)\n",
        "    print('Upper Limit Extreme:', upper_limit_extreme)\n",
        "\n",
        "#Mengitung persen outliers dari data\n",
        "def percent_outliers(i):\n",
        "    Q1 = rfm[i].quantile(0.5)\n",
        "    Q3 = rfm[i].quantile(0.95)\n",
        "    IQR = Q3 - Q1\n",
        "\n",
        "    #menentukan upper limit biasa dan upper limit ekstim\n",
        "    lower_limit = rfm[i].quantile(0.5) - (IQR * 1.5)\n",
        "    lower_limit_extreme = rfm[i].quantile(0.5) - (IQR * 3)\n",
        "    upper_limit = rfm[i].quantile(0.95) + (IQR * 1.5)\n",
        "    upper_limit_extreme = rfm[i].quantile(0.95) + (IQR * 3)\n",
        "    #melihat persenan outliers terhadap total data\n",
        "    print('Lower Limit: {} %'.format(rfm[(rfm[i] >= lower_limit)].shape[0]/ rfm.shape[0]*100))\n",
        "    print('Lower Limit Extereme: {} %'.format(rfm[(rfm[i] >= lower_limit_extreme)].shape[0]/rfm.shape[0]*100))\n",
        "    print('Upper Limit: {} %'.format(rfm[(rfm[i] >= upper_limit)].shape[0]/ rfm.shape[0]*100))\n",
        "    print('Upper Limit Extereme: {} %'.format(rfm[(rfm[i] >= upper_limit_extreme)].shape[0]/rfm.shape[0]*100))"
      ],
      "metadata": {
        "id": "k-FEiNAtet8Y"
      },
      "execution_count": null,
      "outputs": []
    },
    {
      "cell_type": "code",
      "source": [
        "# Recency Outliers\n",
        "sns.boxplot(x=rfm[\"Recency\"])"
      ],
      "metadata": {
        "colab": {
          "base_uri": "https://localhost:8080/",
          "height": 296
        },
        "id": "twc90JwXffS-",
        "outputId": "a5335a54-c6c9-471b-e919-2a4a0ed6ce8a"
      },
      "execution_count": null,
      "outputs": [
        {
          "output_type": "execute_result",
          "data": {
            "text/plain": [
              "<matplotlib.axes._subplots.AxesSubplot at 0x7f868aa46810>"
            ]
          },
          "metadata": {},
          "execution_count": 42
        },
        {
          "output_type": "display_data",
          "data": {
            "text/plain": [
              "<Figure size 432x288 with 1 Axes>"
            ],
            "image/png": "[encoded data removed]"
          },
          "metadata": {
            "needs_background": "light"
          }
        }
      ]
    },
    {
      "cell_type": "code",
      "source": [
        "#Frequency Outliers\n",
        "sns.boxplot(x=rfm[\"Frequency\"])"
      ],
      "metadata": {
        "colab": {
          "base_uri": "https://localhost:8080/",
          "height": 296
        },
        "id": "d0QicBXLfky9",
        "outputId": "abc19e4c-00f7-43df-da72-315f4d2f188e"
      },
      "execution_count": null,
      "outputs": [
        {
          "output_type": "execute_result",
          "data": {
            "text/plain": [
              "<matplotlib.axes._subplots.AxesSubplot at 0x7f868a853a50>"
            ]
          },
          "metadata": {},
          "execution_count": 44
        },
        {
          "output_type": "display_data",
          "data": {
            "text/plain": [
              "<Figure size 432x288 with 1 Axes>"
            ],
            "image/png": "[encoded data removed]"
          },
          "metadata": {
            "needs_background": "light"
          }
        }
      ]
    },
    {
      "cell_type": "code",
      "source": [
        "#Monetary Outliers\n",
        "sns.boxplot(x=rfm[\"Monetary\"])"
      ],
      "metadata": {
        "colab": {
          "base_uri": "https://localhost:8080/",
          "height": 296
        },
        "id": "wapZlwYOftCF",
        "outputId": "824e9d72-22ea-46a8-faa1-e1b84c185e20"
      },
      "execution_count": null,
      "outputs": [
        {
          "output_type": "execute_result",
          "data": {
            "text/plain": [
              "<matplotlib.axes._subplots.AxesSubplot at 0x7f868a83e4d0>"
            ]
          },
          "metadata": {},
          "execution_count": 45
        },
        {
          "output_type": "display_data",
          "data": {
            "text/plain": [
              "<Figure size 432x288 with 1 Axes>"
            ],
            "image/png": "[encoded data removed]"
          },
          "metadata": {
            "needs_background": "light"
          }
        }
      ]
    },
    {
      "cell_type": "code",
      "source": [
        "print(limit('Monetary'))\n",
        "print('-'*50)\n",
        "print(percent_outliers('Monetary'))"
      ],
      "metadata": {
        "colab": {
          "base_uri": "https://localhost:8080/"
        },
        "id": "FEkwQ4PKftp2",
        "outputId": "87a77640-bc45-486e-a894-11ec26e55ce5"
      },
      "execution_count": null,
      "outputs": [
        {
          "output_type": "stream",
          "name": "stdout",
          "text": [
            "Lower Limit: -164.36799999999988\n",
            "Lower Limit Extreme: -428.41599999999977\n",
            "Upper Limit: 539.7599999999998\n",
            "Upper Limit Extreme: 627.7759999999998\n",
            "None\n",
            "--------------------------------------------------\n",
            "Lower Limit: 100.0 %\n",
            "Lower Limit Extereme: 100.0 %\n",
            "Upper Limit: 0.0962442111937679 %\n",
            "Upper Limit Extereme: 0.012455133213311141 %\n",
            "None\n"
          ]
        }
      ]
    },
    {
      "cell_type": "code",
      "source": [
        "#Outliers handling on Monetary\n",
        "outliers1_drop = rfm[(rfm['Monetary'] > 1500)].index\n",
        "rfm.drop(outliers1_drop, inplace=True)"
      ],
      "metadata": {
        "id": "3Kq388TnfwGQ"
      },
      "execution_count": null,
      "outputs": []
    },
    {
      "cell_type": "markdown",
      "source": [
        "## **4.3 Data Scaling**"
      ],
      "metadata": {
        "id": "BUFOVLatTQ5e"
      }
    },
    {
      "cell_type": "code",
      "source": [
        "#Data scaler\n",
        "scaler = StandardScaler()"
      ],
      "metadata": {
        "id": "VefmHMc4pFPx"
      },
      "execution_count": null,
      "outputs": []
    },
    {
      "cell_type": "code",
      "source": [
        "rfm.head()"
      ],
      "metadata": {
        "colab": {
          "base_uri": "https://localhost:8080/",
          "height": 237
        },
        "id": "ZO9v483uK4EN",
        "outputId": "1575f27c-aee6-495f-a2a0-ed76ab768c13"
      },
      "execution_count": null,
      "outputs": [
        {
          "output_type": "execute_result",
          "data": {
            "text/plain": [
              "                                  Recency  Frequency  Monetary\n",
              "customer_unique_id                                            \n",
              "0000366f3b9a7992bf8c76cfdf3221e2      113          1    141.90\n",
              "0000b849f77a49e4a4ce2b2a4ca5be3f      116          1     27.19\n",
              "0000f46a3911fa3c0805444483337064      538          1     86.22\n",
              "0000f6ccb0745a6a4b88665a16c9f078      322          1     43.62\n",
              "0004aac84e0df4da2b147fca70cf8255      289          1    196.89"
            ],
            "text/html": [
              "\n",
              "  <div id=\"df-20b8ddf4-9beb-4630-a91b-56077e1b84bf\">\n",
              "    <div class=\"colab-df-container\">\n",
              "      <div>\n",
              "<style scoped>\n",
              "    .dataframe tbody tr th:only-of-type {\n",
              "        vertical-align: middle;\n",
              "    }\n",
              "\n",
              "    .dataframe tbody tr th {\n",
              "        vertical-align: top;\n",
              "    }\n",
              "\n",
              "    .dataframe thead th {\n",
              "        text-align: right;\n",
              "    }\n",
              "</style>\n",
              "<table border=\"1\" class=\"dataframe\">\n",
              "  <thead>\n",
              "    <tr style=\"text-align: right;\">\n",
              "      <th></th>\n",
              "      <th>Recency</th>\n",
              "      <th>Frequency</th>\n",
              "      <th>Monetary</th>\n",
              "    </tr>\n",
              "    <tr>\n",
              "      <th>customer_unique_id</th>\n",
              "      <th></th>\n",
              "      <th></th>\n",
              "      <th></th>\n",
              "    </tr>\n",
              "  </thead>\n",
              "  <tbody>\n",
              "    <tr>\n",
              "      <th>0000366f3b9a7992bf8c76cfdf3221e2</th>\n",
              "      <td>113</td>\n",
              "      <td>1</td>\n",
              "      <td>141.90</td>\n",
              "    </tr>\n",
              "    <tr>\n",
              "      <th>0000b849f77a49e4a4ce2b2a4ca5be3f</th>\n",
              "      <td>116</td>\n",
              "      <td>1</td>\n",
              "      <td>27.19</td>\n",
              "    </tr>\n",
              "    <tr>\n",
              "      <th>0000f46a3911fa3c0805444483337064</th>\n",
              "      <td>538</td>\n",
              "      <td>1</td>\n",
              "      <td>86.22</td>\n",
              "    </tr>\n",
              "    <tr>\n",
              "      <th>0000f6ccb0745a6a4b88665a16c9f078</th>\n",
              "      <td>322</td>\n",
              "      <td>1</td>\n",
              "      <td>43.62</td>\n",
              "    </tr>\n",
              "    <tr>\n",
              "      <th>0004aac84e0df4da2b147fca70cf8255</th>\n",
              "      <td>289</td>\n",
              "      <td>1</td>\n",
              "      <td>196.89</td>\n",
              "    </tr>\n",
              "  </tbody>\n",
              "</table>\n",
              "</div>\n",
              "      <button class=\"colab-df-convert\" onclick=\"convertToInteractive('df-20b8ddf4-9beb-4630-a91b-56077e1b84bf')\"\n",
              "              title=\"Convert this dataframe to an interactive table.\"\n",
              "              style=\"display:none;\">\n",
              "        \n",
              "  <svg xmlns=\"http://www.w3.org/2000/svg\" height=\"24px\"viewBox=\"0 0 24 24\"\n",
              "       width=\"24px\">\n",
              "    <path d=\"M0 0h24v24H0V0z\" fill=\"none\"/>\n",
              "    <path d=\"M18.56 5.44l.94 2.06.94-2.06 2.06-.94-2.06-.94-.94-2.06-.94 2.06-2.06.94zm-11 1L8.5 8.5l.94-2.06 2.06-.94-2.06-.94L8.5 2.5l-.94 2.06-2.06.94zm10 10l.94 2.06.94-2.06 2.06-.94-2.06-.94-.94-2.06-.94 2.06-2.06.94z\"/><path d=\"M17.41 7.96l-1.37-1.37c-.4-.4-.92-.59-1.43-.59-.52 0-1.04.2-1.43.59L10.3 9.45l-7.72 7.72c-.78.78-.78 2.05 0 2.83L4 21.41c.39.39.9.59 1.41.59.51 0 1.02-.2 1.41-.59l7.78-7.78 2.81-2.81c.8-.78.8-2.07 0-2.86zM5.41 20L4 18.59l7.72-7.72 1.47 1.35L5.41 20z\"/>\n",
              "  </svg>\n",
              "      </button>\n",
              "      \n",
              "  <style>\n",
              "    .colab-df-container {\n",
              "      display:flex;\n",
              "      flex-wrap:wrap;\n",
              "      gap: 12px;\n",
              "    }\n",
              "\n",
              "    .colab-df-convert {\n",
              "      background-color: #E8F0FE;\n",
              "      border: none;\n",
              "      border-radius: 50%;\n",
              "      cursor: pointer;\n",
              "      display: none;\n",
              "      fill: #1967D2;\n",
              "      height: 32px;\n",
              "      padding: 0 0 0 0;\n",
              "      width: 32px;\n",
              "    }\n",
              "\n",
              "    .colab-df-convert:hover {\n",
              "      background-color: #E2EBFA;\n",
              "      box-shadow: 0px 1px 2px rgba(60, 64, 67, 0.3), 0px 1px 3px 1px rgba(60, 64, 67, 0.15);\n",
              "      fill: #174EA6;\n",
              "    }\n",
              "\n",
              "    [theme=dark] .colab-df-convert {\n",
              "      background-color: #3B4455;\n",
              "      fill: #D2E3FC;\n",
              "    }\n",
              "\n",
              "    [theme=dark] .colab-df-convert:hover {\n",
              "      background-color: #434B5C;\n",
              "      box-shadow: 0px 1px 3px 1px rgba(0, 0, 0, 0.15);\n",
              "      filter: drop-shadow(0px 1px 2px rgba(0, 0, 0, 0.3));\n",
              "      fill: #FFFFFF;\n",
              "    }\n",
              "  </style>\n",
              "\n",
              "      <script>\n",
              "        const buttonEl =\n",
              "          document.querySelector('#df-20b8ddf4-9beb-4630-a91b-56077e1b84bf button.colab-df-convert');\n",
              "        buttonEl.style.display =\n",
              "          google.colab.kernel.accessAllowed ? 'block' : 'none';\n",
              "\n",
              "        async function convertToInteractive(key) {\n",
              "          const element = document.querySelector('#df-20b8ddf4-9beb-4630-a91b-56077e1b84bf');\n",
              "          const dataTable =\n",
              "            await google.colab.kernel.invokeFunction('convertToInteractive',\n",
              "                                                     [key], {});\n",
              "          if (!dataTable) return;\n",
              "\n",
              "          const docLinkHtml = 'Like what you see? Visit the ' +\n",
              "            '<a target=\"_blank\" href=https://colab.research.google.com/notebooks/data_table.ipynb>data table notebook</a>'\n",
              "            + ' to learn more about interactive tables.';\n",
              "          element.innerHTML = '';\n",
              "          dataTable['output_type'] = 'display_data';\n",
              "          await google.colab.output.renderOutput(dataTable, element);\n",
              "          const docLink = document.createElement('div');\n",
              "          docLink.innerHTML = docLinkHtml;\n",
              "          element.appendChild(docLink);\n",
              "        }\n",
              "      </script>\n",
              "    </div>\n",
              "  </div>\n",
              "  "
            ]
          },
          "metadata": {},
          "execution_count": 49
        }
      ]
    },
    {
      "cell_type": "code",
      "source": [
        "rfm_scaled = scaler.fit_transform(rfm.astype(float))"
      ],
      "metadata": {
        "id": "zv6g_WexFBhl"
      },
      "execution_count": null,
      "outputs": []
    },
    {
      "cell_type": "code",
      "source": [
        "#DataFrame for scaled data\n",
        "rfm_scaled = pd.DataFrame(rfm_scaled, index = rfm.index, columns = rfm.columns)\n",
        "rfm_scaled.head()"
      ],
      "metadata": {
        "colab": {
          "base_uri": "https://localhost:8080/",
          "height": 237
        },
        "id": "x5yqXJW0LS4H",
        "outputId": "16a11250-a364-41ad-cc6f-0a9784f7e68a"
      },
      "execution_count": null,
      "outputs": [
        {
          "output_type": "execute_result",
          "data": {
            "text/plain": [
              "                                   Recency  Frequency  Monetary\n",
              "customer_unique_id                                             \n",
              "0000366f3b9a7992bf8c76cfdf3221e2 -0.833644  -0.173554  0.292570\n",
              "0000b849f77a49e4a4ce2b2a4ca5be3f -0.813801  -0.173554 -1.176924\n",
              "0000f46a3911fa3c0805444483337064  1.977417  -0.173554 -0.420719\n",
              "0000f6ccb0745a6a4b88665a16c9f078  0.548736  -0.173554 -0.966447\n",
              "0004aac84e0df4da2b147fca70cf8255  0.330466  -0.173554  0.997021"
            ],
            "text/html": [
              "\n",
              "  <div id=\"df-6999aef2-364a-47c8-9506-11f479ee12c9\">\n",
              "    <div class=\"colab-df-container\">\n",
              "      <div>\n",
              "<style scoped>\n",
              "    .dataframe tbody tr th:only-of-type {\n",
              "        vertical-align: middle;\n",
              "    }\n",
              "\n",
              "    .dataframe tbody tr th {\n",
              "        vertical-align: top;\n",
              "    }\n",
              "\n",
              "    .dataframe thead th {\n",
              "        text-align: right;\n",
              "    }\n",
              "</style>\n",
              "<table border=\"1\" class=\"dataframe\">\n",
              "  <thead>\n",
              "    <tr style=\"text-align: right;\">\n",
              "      <th></th>\n",
              "      <th>Recency</th>\n",
              "      <th>Frequency</th>\n",
              "      <th>Monetary</th>\n",
              "    </tr>\n",
              "    <tr>\n",
              "      <th>customer_unique_id</th>\n",
              "      <th></th>\n",
              "      <th></th>\n",
              "      <th></th>\n",
              "    </tr>\n",
              "  </thead>\n",
              "  <tbody>\n",
              "    <tr>\n",
              "      <th>0000366f3b9a7992bf8c76cfdf3221e2</th>\n",
              "      <td>-0.833644</td>\n",
              "      <td>-0.173554</td>\n",
              "      <td>0.292570</td>\n",
              "    </tr>\n",
              "    <tr>\n",
              "      <th>0000b849f77a49e4a4ce2b2a4ca5be3f</th>\n",
              "      <td>-0.813801</td>\n",
              "      <td>-0.173554</td>\n",
              "      <td>-1.176924</td>\n",
              "    </tr>\n",
              "    <tr>\n",
              "      <th>0000f46a3911fa3c0805444483337064</th>\n",
              "      <td>1.977417</td>\n",
              "      <td>-0.173554</td>\n",
              "      <td>-0.420719</td>\n",
              "    </tr>\n",
              "    <tr>\n",
              "      <th>0000f6ccb0745a6a4b88665a16c9f078</th>\n",
              "      <td>0.548736</td>\n",
              "      <td>-0.173554</td>\n",
              "      <td>-0.966447</td>\n",
              "    </tr>\n",
              "    <tr>\n",
              "      <th>0004aac84e0df4da2b147fca70cf8255</th>\n",
              "      <td>0.330466</td>\n",
              "      <td>-0.173554</td>\n",
              "      <td>0.997021</td>\n",
              "    </tr>\n",
              "  </tbody>\n",
              "</table>\n",
              "</div>\n",
              "      <button class=\"colab-df-convert\" onclick=\"convertToInteractive('df-6999aef2-364a-47c8-9506-11f479ee12c9')\"\n",
              "              title=\"Convert this dataframe to an interactive table.\"\n",
              "              style=\"display:none;\">\n",
              "        \n",
              "  <svg xmlns=\"http://www.w3.org/2000/svg\" height=\"24px\"viewBox=\"0 0 24 24\"\n",
              "       width=\"24px\">\n",
              "    <path d=\"M0 0h24v24H0V0z\" fill=\"none\"/>\n",
              "    <path d=\"M18.56 5.44l.94 2.06.94-2.06 2.06-.94-2.06-.94-.94-2.06-.94 2.06-2.06.94zm-11 1L8.5 8.5l.94-2.06 2.06-.94-2.06-.94L8.5 2.5l-.94 2.06-2.06.94zm10 10l.94 2.06.94-2.06 2.06-.94-2.06-.94-.94-2.06-.94 2.06-2.06.94z\"/><path d=\"M17.41 7.96l-1.37-1.37c-.4-.4-.92-.59-1.43-.59-.52 0-1.04.2-1.43.59L10.3 9.45l-7.72 7.72c-.78.78-.78 2.05 0 2.83L4 21.41c.39.39.9.59 1.41.59.51 0 1.02-.2 1.41-.59l7.78-7.78 2.81-2.81c.8-.78.8-2.07 0-2.86zM5.41 20L4 18.59l7.72-7.72 1.47 1.35L5.41 20z\"/>\n",
              "  </svg>\n",
              "      </button>\n",
              "      \n",
              "  <style>\n",
              "    .colab-df-container {\n",
              "      display:flex;\n",
              "      flex-wrap:wrap;\n",
              "      gap: 12px;\n",
              "    }\n",
              "\n",
              "    .colab-df-convert {\n",
              "      background-color: #E8F0FE;\n",
              "      border: none;\n",
              "      border-radius: 50%;\n",
              "      cursor: pointer;\n",
              "      display: none;\n",
              "      fill: #1967D2;\n",
              "      height: 32px;\n",
              "      padding: 0 0 0 0;\n",
              "      width: 32px;\n",
              "    }\n",
              "\n",
              "    .colab-df-convert:hover {\n",
              "      background-color: #E2EBFA;\n",
              "      box-shadow: 0px 1px 2px rgba(60, 64, 67, 0.3), 0px 1px 3px 1px rgba(60, 64, 67, 0.15);\n",
              "      fill: #174EA6;\n",
              "    }\n",
              "\n",
              "    [theme=dark] .colab-df-convert {\n",
              "      background-color: #3B4455;\n",
              "      fill: #D2E3FC;\n",
              "    }\n",
              "\n",
              "    [theme=dark] .colab-df-convert:hover {\n",
              "      background-color: #434B5C;\n",
              "      box-shadow: 0px 1px 3px 1px rgba(0, 0, 0, 0.15);\n",
              "      filter: drop-shadow(0px 1px 2px rgba(0, 0, 0, 0.3));\n",
              "      fill: #FFFFFF;\n",
              "    }\n",
              "  </style>\n",
              "\n",
              "      <script>\n",
              "        const buttonEl =\n",
              "          document.querySelector('#df-6999aef2-364a-47c8-9506-11f479ee12c9 button.colab-df-convert');\n",
              "        buttonEl.style.display =\n",
              "          google.colab.kernel.accessAllowed ? 'block' : 'none';\n",
              "\n",
              "        async function convertToInteractive(key) {\n",
              "          const element = document.querySelector('#df-6999aef2-364a-47c8-9506-11f479ee12c9');\n",
              "          const dataTable =\n",
              "            await google.colab.kernel.invokeFunction('convertToInteractive',\n",
              "                                                     [key], {});\n",
              "          if (!dataTable) return;\n",
              "\n",
              "          const docLinkHtml = 'Like what you see? Visit the ' +\n",
              "            '<a target=\"_blank\" href=https://colab.research.google.com/notebooks/data_table.ipynb>data table notebook</a>'\n",
              "            + ' to learn more about interactive tables.';\n",
              "          element.innerHTML = '';\n",
              "          dataTable['output_type'] = 'display_data';\n",
              "          await google.colab.output.renderOutput(dataTable, element);\n",
              "          const docLink = document.createElement('div');\n",
              "          docLink.innerHTML = docLinkHtml;\n",
              "          element.appendChild(docLink);\n",
              "        }\n",
              "      </script>\n",
              "    </div>\n",
              "  </div>\n",
              "  "
            ]
          },
          "metadata": {},
          "execution_count": 51
        }
      ]
    },
    {
      "cell_type": "markdown",
      "source": [
        "## **4.5 K-means clustering**"
      ],
      "metadata": {
        "id": "2gqvBOGOfCO6"
      }
    },
    {
      "cell_type": "code",
      "source": [
        "#Elbow method\n",
        "wcss = {}\n",
        "\n",
        "for i in range(1, 11):\n",
        "    kmeans = KMeans(n_clusters= i, init= 'k-means++', max_iter= 300)\n",
        "    kmeans.fit(rfm_scaled)\n",
        "    wcss[i] = kmeans.inertia_\n",
        "\n",
        "#Visualisasi Elbow Method\n",
        "fig, ax = plt.subplots(figsize=(16, 9))\n",
        "sns.pointplot(x = list(wcss.keys()), y = list(wcss.values()))\n",
        "plt.title('Elbow Method')\n",
        "plt.xlabel('K Numbers')\n",
        "plt.ylabel('WCSS')\n",
        "plt.show()"
      ],
      "metadata": {
        "id": "eTUoOnXffLHX",
        "colab": {
          "base_uri": "https://localhost:8080/",
          "height": 566
        },
        "outputId": "6a3797ff-7a8c-4b01-d7f6-51e9a54362c9"
      },
      "execution_count": null,
      "outputs": [
        {
          "output_type": "display_data",
          "data": {
            "text/plain": [
              "<Figure size 1152x648 with 1 Axes>"
            ],
            "image/png": "[encoded data removed]"
          },
          "metadata": {
            "needs_background": "light"
          }
        }
      ]
    },
    {
      "cell_type": "code",
      "source": [
        "#Choose n_clusters = 3\n",
        "clus = KMeans(n_clusters= 3, n_init=10, init= 'k-means++', max_iter= 300)\n",
        "clus.fit(rfm_scaled)"
      ],
      "metadata": {
        "id": "aFNlJXpJgrQu",
        "colab": {
          "base_uri": "https://localhost:8080/"
        },
        "outputId": "bb7da190-9dba-4681-8117-0a3abce6be21"
      },
      "execution_count": null,
      "outputs": [
        {
          "output_type": "execute_result",
          "data": {
            "text/plain": [
              "KMeans(n_clusters=3)"
            ]
          },
          "metadata": {},
          "execution_count": 53
        }
      ]
    },
    {
      "cell_type": "code",
      "source": [
        "\n",
        "rfm['K_Cluster'] = clus.labels_\n",
        "rfm.head()"
      ],
      "metadata": {
        "id": "g5WOJ-fSgv74",
        "colab": {
          "base_uri": "https://localhost:8080/",
          "height": 237
        },
        "outputId": "831259c1-8338-4a62-94bc-35b5d0252b31"
      },
      "execution_count": null,
      "outputs": [
        {
          "output_type": "execute_result",
          "data": {
            "text/plain": [
              "                                  Recency  Frequency  Monetary  K_Cluster\n",
              "customer_unique_id                                                       \n",
              "0000366f3b9a7992bf8c76cfdf3221e2      113          1    141.90          2\n",
              "0000b849f77a49e4a4ce2b2a4ca5be3f      116          1     27.19          2\n",
              "0000f46a3911fa3c0805444483337064      538          1     86.22          1\n",
              "0000f6ccb0745a6a4b88665a16c9f078      322          1     43.62          1\n",
              "0004aac84e0df4da2b147fca70cf8255      289          1    196.89          0"
            ],
            "text/html": [
              "\n",
              "  <div id=\"df-d6f4a349-a6da-41cc-9fa9-e2173986a1c9\">\n",
              "    <div class=\"colab-df-container\">\n",
              "      <div>\n",
              "<style scoped>\n",
              "    .dataframe tbody tr th:only-of-type {\n",
              "        vertical-align: middle;\n",
              "    }\n",
              "\n",
              "    .dataframe tbody tr th {\n",
              "        vertical-align: top;\n",
              "    }\n",
              "\n",
              "    .dataframe thead th {\n",
              "        text-align: right;\n",
              "    }\n",
              "</style>\n",
              "<table border=\"1\" class=\"dataframe\">\n",
              "  <thead>\n",
              "    <tr style=\"text-align: right;\">\n",
              "      <th></th>\n",
              "      <th>Recency</th>\n",
              "      <th>Frequency</th>\n",
              "      <th>Monetary</th>\n",
              "      <th>K_Cluster</th>\n",
              "    </tr>\n",
              "    <tr>\n",
              "      <th>customer_unique_id</th>\n",
              "      <th></th>\n",
              "      <th></th>\n",
              "      <th></th>\n",
              "      <th></th>\n",
              "    </tr>\n",
              "  </thead>\n",
              "  <tbody>\n",
              "    <tr>\n",
              "      <th>0000366f3b9a7992bf8c76cfdf3221e2</th>\n",
              "      <td>113</td>\n",
              "      <td>1</td>\n",
              "      <td>141.90</td>\n",
              "      <td>2</td>\n",
              "    </tr>\n",
              "    <tr>\n",
              "      <th>0000b849f77a49e4a4ce2b2a4ca5be3f</th>\n",
              "      <td>116</td>\n",
              "      <td>1</td>\n",
              "      <td>27.19</td>\n",
              "      <td>2</td>\n",
              "    </tr>\n",
              "    <tr>\n",
              "      <th>0000f46a3911fa3c0805444483337064</th>\n",
              "      <td>538</td>\n",
              "      <td>1</td>\n",
              "      <td>86.22</td>\n",
              "      <td>1</td>\n",
              "    </tr>\n",
              "    <tr>\n",
              "      <th>0000f6ccb0745a6a4b88665a16c9f078</th>\n",
              "      <td>322</td>\n",
              "      <td>1</td>\n",
              "      <td>43.62</td>\n",
              "      <td>1</td>\n",
              "    </tr>\n",
              "    <tr>\n",
              "      <th>0004aac84e0df4da2b147fca70cf8255</th>\n",
              "      <td>289</td>\n",
              "      <td>1</td>\n",
              "      <td>196.89</td>\n",
              "      <td>0</td>\n",
              "    </tr>\n",
              "  </tbody>\n",
              "</table>\n",
              "</div>\n",
              "      <button class=\"colab-df-convert\" onclick=\"convertToInteractive('df-d6f4a349-a6da-41cc-9fa9-e2173986a1c9')\"\n",
              "              title=\"Convert this dataframe to an interactive table.\"\n",
              "              style=\"display:none;\">\n",
              "        \n",
              "  <svg xmlns=\"http://www.w3.org/2000/svg\" height=\"24px\"viewBox=\"0 0 24 24\"\n",
              "       width=\"24px\">\n",
              "    <path d=\"M0 0h24v24H0V0z\" fill=\"none\"/>\n",
              "    <path d=\"M18.56 5.44l.94 2.06.94-2.06 2.06-.94-2.06-.94-.94-2.06-.94 2.06-2.06.94zm-11 1L8.5 8.5l.94-2.06 2.06-.94-2.06-.94L8.5 2.5l-.94 2.06-2.06.94zm10 10l.94 2.06.94-2.06 2.06-.94-2.06-.94-.94-2.06-.94 2.06-2.06.94z\"/><path d=\"M17.41 7.96l-1.37-1.37c-.4-.4-.92-.59-1.43-.59-.52 0-1.04.2-1.43.59L10.3 9.45l-7.72 7.72c-.78.78-.78 2.05 0 2.83L4 21.41c.39.39.9.59 1.41.59.51 0 1.02-.2 1.41-.59l7.78-7.78 2.81-2.81c.8-.78.8-2.07 0-2.86zM5.41 20L4 18.59l7.72-7.72 1.47 1.35L5.41 20z\"/>\n",
              "  </svg>\n",
              "      </button>\n",
              "      \n",
              "  <style>\n",
              "    .colab-df-container {\n",
              "      display:flex;\n",
              "      flex-wrap:wrap;\n",
              "      gap: 12px;\n",
              "    }\n",
              "\n",
              "    .colab-df-convert {\n",
              "      background-color: #E8F0FE;\n",
              "      border: none;\n",
              "      border-radius: 50%;\n",
              "      cursor: pointer;\n",
              "      display: none;\n",
              "      fill: #1967D2;\n",
              "      height: 32px;\n",
              "      padding: 0 0 0 0;\n",
              "      width: 32px;\n",
              "    }\n",
              "\n",
              "    .colab-df-convert:hover {\n",
              "      background-color: #E2EBFA;\n",
              "      box-shadow: 0px 1px 2px rgba(60, 64, 67, 0.3), 0px 1px 3px 1px rgba(60, 64, 67, 0.15);\n",
              "      fill: #174EA6;\n",
              "    }\n",
              "\n",
              "    [theme=dark] .colab-df-convert {\n",
              "      background-color: #3B4455;\n",
              "      fill: #D2E3FC;\n",
              "    }\n",
              "\n",
              "    [theme=dark] .colab-df-convert:hover {\n",
              "      background-color: #434B5C;\n",
              "      box-shadow: 0px 1px 3px 1px rgba(0, 0, 0, 0.15);\n",
              "      filter: drop-shadow(0px 1px 2px rgba(0, 0, 0, 0.3));\n",
              "      fill: #FFFFFF;\n",
              "    }\n",
              "  </style>\n",
              "\n",
              "      <script>\n",
              "        const buttonEl =\n",
              "          document.querySelector('#df-d6f4a349-a6da-41cc-9fa9-e2173986a1c9 button.colab-df-convert');\n",
              "        buttonEl.style.display =\n",
              "          google.colab.kernel.accessAllowed ? 'block' : 'none';\n",
              "\n",
              "        async function convertToInteractive(key) {\n",
              "          const element = document.querySelector('#df-d6f4a349-a6da-41cc-9fa9-e2173986a1c9');\n",
              "          const dataTable =\n",
              "            await google.colab.kernel.invokeFunction('convertToInteractive',\n",
              "                                                     [key], {});\n",
              "          if (!dataTable) return;\n",
              "\n",
              "          const docLinkHtml = 'Like what you see? Visit the ' +\n",
              "            '<a target=\"_blank\" href=https://colab.research.google.com/notebooks/data_table.ipynb>data table notebook</a>'\n",
              "            + ' to learn more about interactive tables.';\n",
              "          element.innerHTML = '';\n",
              "          dataTable['output_type'] = 'display_data';\n",
              "          await google.colab.output.renderOutput(dataTable, element);\n",
              "          const docLink = document.createElement('div');\n",
              "          docLink.innerHTML = docLinkHtml;\n",
              "          element.appendChild(docLink);\n",
              "        }\n",
              "      </script>\n",
              "    </div>\n",
              "  </div>\n",
              "  "
            ]
          },
          "metadata": {},
          "execution_count": 54
        }
      ]
    },
    {
      "cell_type": "markdown",
      "source": [
        "## **4.6 Analysis**"
      ],
      "metadata": {
        "id": "xqPtLjqafLe3"
      }
    },
    {
      "cell_type": "code",
      "source": [
        "#Visualisasi Silhouette Analysis\n",
        "visualizer = SilhouetteVisualizer(clus)\n",
        "\n",
        "visualizer.fit(rfm_scaled)\n",
        "visualizer.poof()"
      ],
      "metadata": {
        "id": "cZCERd65g33e",
        "colab": {
          "base_uri": "https://localhost:8080/",
          "height": 346
        },
        "outputId": "ddeba6b2-7da2-44ab-cc2e-dd85584af915"
      },
      "execution_count": null,
      "outputs": [
        {
          "output_type": "stream",
          "name": "stderr",
          "text": [
            "/usr/local/lib/python3.7/dist-packages/sklearn/base.py:451: UserWarning: X does not have valid feature names, but KMeans was fitted with feature names\n",
            "  \"X does not have valid feature names, but\"\n"
          ]
        },
        {
          "output_type": "display_data",
          "data": {
            "text/plain": [
              "<Figure size 432x288 with 1 Axes>"
            ],
            "image/png": "[encoded data removed]"
          },
          "metadata": {
            "needs_background": "light"
          }
        },
        {
          "output_type": "execute_result",
          "data": {
            "text/plain": [
              "<matplotlib.axes._subplots.AxesSubplot at 0x7f868ac23290>"
            ]
          },
          "metadata": {},
          "execution_count": 55
        }
      ]
    },
    {
      "cell_type": "markdown",
      "source": [
        "## **4.7 Visualization**"
      ],
      "metadata": {
        "id": "0rforK3ShARN"
      }
    },
    {
      "cell_type": "code",
      "source": [
        "rfm.groupby('K_Cluster')['Recency','Frequency','Monetary'].agg(['count','mean','median','max','min'])"
      ],
      "metadata": {
        "colab": {
          "base_uri": "https://localhost:8080/",
          "height": 261
        },
        "id": "gfFqGw76XIhH",
        "outputId": "9f69caf0-f5d5-44af-b468-a6ed866b43f6"
      },
      "execution_count": null,
      "outputs": [
        {
          "output_type": "stream",
          "name": "stderr",
          "text": [
            "/usr/local/lib/python3.7/dist-packages/ipykernel_launcher.py:1: FutureWarning: Indexing with multiple keys (implicitly converted to a tuple of keys) will be deprecated, use a list instead.\n",
            "  \"\"\"Entry point for launching an IPython kernel.\n"
          ]
        },
        {
          "output_type": "execute_result",
          "data": {
            "text/plain": [
              "          Recency                              Frequency                       \\\n",
              "            count        mean median  max  min     count      mean median max   \n",
              "K_Cluster                                                                       \n",
              "0           17406  217.934793  209.0  602    2     17406  1.271918    1.0  33   \n",
              "1           30657  395.780344  387.0  603  258     30657  1.042144    1.0   5   \n",
              "2           40254  128.788543  129.0  267    1     40254  1.030506    1.0   4   \n",
              "\n",
              "              Monetary                                      \n",
              "          min    count        mean  median      max    min  \n",
              "K_Cluster                                                   \n",
              "0           1    17406  240.385927  227.31  1338.41  19.00  \n",
              "1           1    30657   92.210502   83.25   263.04  10.07  \n",
              "2           1    40254   87.050176   81.14   194.70   0.00  "
            ],
            "text/html": [
              "\n",
              "  <div id=\"df-e1a4a5e0-3d7d-438f-937b-8f6202aa410b\">\n",
              "    <div class=\"colab-df-container\">\n",
              "      <div>\n",
              "<style scoped>\n",
              "    .dataframe tbody tr th:only-of-type {\n",
              "        vertical-align: middle;\n",
              "    }\n",
              "\n",
              "    .dataframe tbody tr th {\n",
              "        vertical-align: top;\n",
              "    }\n",
              "\n",
              "    .dataframe thead tr th {\n",
              "        text-align: left;\n",
              "    }\n",
              "\n",
              "    .dataframe thead tr:last-of-type th {\n",
              "        text-align: right;\n",
              "    }\n",
              "</style>\n",
              "<table border=\"1\" class=\"dataframe\">\n",
              "  <thead>\n",
              "    <tr>\n",
              "      <th></th>\n",
              "      <th colspan=\"5\" halign=\"left\">Recency</th>\n",
              "      <th colspan=\"5\" halign=\"left\">Frequency</th>\n",
              "      <th colspan=\"5\" halign=\"left\">Monetary</th>\n",
              "    </tr>\n",
              "    <tr>\n",
              "      <th></th>\n",
              "      <th>count</th>\n",
              "      <th>mean</th>\n",
              "      <th>median</th>\n",
              "      <th>max</th>\n",
              "      <th>min</th>\n",
              "      <th>count</th>\n",
              "      <th>mean</th>\n",
              "      <th>median</th>\n",
              "      <th>max</th>\n",
              "      <th>min</th>\n",
              "      <th>count</th>\n",
              "      <th>mean</th>\n",
              "      <th>median</th>\n",
              "      <th>max</th>\n",
              "      <th>min</th>\n",
              "    </tr>\n",
              "    <tr>\n",
              "      <th>K_Cluster</th>\n",
              "      <th></th>\n",
              "      <th></th>\n",
              "      <th></th>\n",
              "      <th></th>\n",
              "      <th></th>\n",
              "      <th></th>\n",
              "      <th></th>\n",
              "      <th></th>\n",
              "      <th></th>\n",
              "      <th></th>\n",
              "      <th></th>\n",
              "      <th></th>\n",
              "      <th></th>\n",
              "      <th></th>\n",
              "      <th></th>\n",
              "    </tr>\n",
              "  </thead>\n",
              "  <tbody>\n",
              "    <tr>\n",
              "      <th>0</th>\n",
              "      <td>17406</td>\n",
              "      <td>217.934793</td>\n",
              "      <td>209.0</td>\n",
              "      <td>602</td>\n",
              "      <td>2</td>\n",
              "      <td>17406</td>\n",
              "      <td>1.271918</td>\n",
              "      <td>1.0</td>\n",
              "      <td>33</td>\n",
              "      <td>1</td>\n",
              "      <td>17406</td>\n",
              "      <td>240.385927</td>\n",
              "      <td>227.31</td>\n",
              "      <td>1338.41</td>\n",
              "      <td>19.00</td>\n",
              "    </tr>\n",
              "    <tr>\n",
              "      <th>1</th>\n",
              "      <td>30657</td>\n",
              "      <td>395.780344</td>\n",
              "      <td>387.0</td>\n",
              "      <td>603</td>\n",
              "      <td>258</td>\n",
              "      <td>30657</td>\n",
              "      <td>1.042144</td>\n",
              "      <td>1.0</td>\n",
              "      <td>5</td>\n",
              "      <td>1</td>\n",
              "      <td>30657</td>\n",
              "      <td>92.210502</td>\n",
              "      <td>83.25</td>\n",
              "      <td>263.04</td>\n",
              "      <td>10.07</td>\n",
              "    </tr>\n",
              "    <tr>\n",
              "      <th>2</th>\n",
              "      <td>40254</td>\n",
              "      <td>128.788543</td>\n",
              "      <td>129.0</td>\n",
              "      <td>267</td>\n",
              "      <td>1</td>\n",
              "      <td>40254</td>\n",
              "      <td>1.030506</td>\n",
              "      <td>1.0</td>\n",
              "      <td>4</td>\n",
              "      <td>1</td>\n",
              "      <td>40254</td>\n",
              "      <td>87.050176</td>\n",
              "      <td>81.14</td>\n",
              "      <td>194.70</td>\n",
              "      <td>0.00</td>\n",
              "    </tr>\n",
              "  </tbody>\n",
              "</table>\n",
              "</div>\n",
              "      <button class=\"colab-df-convert\" onclick=\"convertToInteractive('df-e1a4a5e0-3d7d-438f-937b-8f6202aa410b')\"\n",
              "              title=\"Convert this dataframe to an interactive table.\"\n",
              "              style=\"display:none;\">\n",
              "        \n",
              "  <svg xmlns=\"http://www.w3.org/2000/svg\" height=\"24px\"viewBox=\"0 0 24 24\"\n",
              "       width=\"24px\">\n",
              "    <path d=\"M0 0h24v24H0V0z\" fill=\"none\"/>\n",
              "    <path d=\"M18.56 5.44l.94 2.06.94-2.06 2.06-.94-2.06-.94-.94-2.06-.94 2.06-2.06.94zm-11 1L8.5 8.5l.94-2.06 2.06-.94-2.06-.94L8.5 2.5l-.94 2.06-2.06.94zm10 10l.94 2.06.94-2.06 2.06-.94-2.06-.94-.94-2.06-.94 2.06-2.06.94z\"/><path d=\"M17.41 7.96l-1.37-1.37c-.4-.4-.92-.59-1.43-.59-.52 0-1.04.2-1.43.59L10.3 9.45l-7.72 7.72c-.78.78-.78 2.05 0 2.83L4 21.41c.39.39.9.59 1.41.59.51 0 1.02-.2 1.41-.59l7.78-7.78 2.81-2.81c.8-.78.8-2.07 0-2.86zM5.41 20L4 18.59l7.72-7.72 1.47 1.35L5.41 20z\"/>\n",
              "  </svg>\n",
              "      </button>\n",
              "      \n",
              "  <style>\n",
              "    .colab-df-container {\n",
              "      display:flex;\n",
              "      flex-wrap:wrap;\n",
              "      gap: 12px;\n",
              "    }\n",
              "\n",
              "    .colab-df-convert {\n",
              "      background-color: #E8F0FE;\n",
              "      border: none;\n",
              "      border-radius: 50%;\n",
              "      cursor: pointer;\n",
              "      display: none;\n",
              "      fill: #1967D2;\n",
              "      height: 32px;\n",
              "      padding: 0 0 0 0;\n",
              "      width: 32px;\n",
              "    }\n",
              "\n",
              "    .colab-df-convert:hover {\n",
              "      background-color: #E2EBFA;\n",
              "      box-shadow: 0px 1px 2px rgba(60, 64, 67, 0.3), 0px 1px 3px 1px rgba(60, 64, 67, 0.15);\n",
              "      fill: #174EA6;\n",
              "    }\n",
              "\n",
              "    [theme=dark] .colab-df-convert {\n",
              "      background-color: #3B4455;\n",
              "      fill: #D2E3FC;\n",
              "    }\n",
              "\n",
              "    [theme=dark] .colab-df-convert:hover {\n",
              "      background-color: #434B5C;\n",
              "      box-shadow: 0px 1px 3px 1px rgba(0, 0, 0, 0.15);\n",
              "      filter: drop-shadow(0px 1px 2px rgba(0, 0, 0, 0.3));\n",
              "      fill: #FFFFFF;\n",
              "    }\n",
              "  </style>\n",
              "\n",
              "      <script>\n",
              "        const buttonEl =\n",
              "          document.querySelector('#df-e1a4a5e0-3d7d-438f-937b-8f6202aa410b button.colab-df-convert');\n",
              "        buttonEl.style.display =\n",
              "          google.colab.kernel.accessAllowed ? 'block' : 'none';\n",
              "\n",
              "        async function convertToInteractive(key) {\n",
              "          const element = document.querySelector('#df-e1a4a5e0-3d7d-438f-937b-8f6202aa410b');\n",
              "          const dataTable =\n",
              "            await google.colab.kernel.invokeFunction('convertToInteractive',\n",
              "                                                     [key], {});\n",
              "          if (!dataTable) return;\n",
              "\n",
              "          const docLinkHtml = 'Like what you see? Visit the ' +\n",
              "            '<a target=\"_blank\" href=https://colab.research.google.com/notebooks/data_table.ipynb>data table notebook</a>'\n",
              "            + ' to learn more about interactive tables.';\n",
              "          element.innerHTML = '';\n",
              "          dataTable['output_type'] = 'display_data';\n",
              "          await google.colab.output.renderOutput(dataTable, element);\n",
              "          const docLink = document.createElement('div');\n",
              "          docLink.innerHTML = docLinkHtml;\n",
              "          element.appendChild(docLink);\n",
              "        }\n",
              "      </script>\n",
              "    </div>\n",
              "  </div>\n",
              "  "
            ]
          },
          "metadata": {},
          "execution_count": 56
        }
      ]
    },
    {
      "cell_type": "code",
      "source": [
        "#Membuat label berdasarkan cluster\n",
        "rfm_reset = rfm.reset_index()\n",
        "count = rfm_reset.groupby('K_Cluster')['customer_unique_id'].nunique().reset_index()\n",
        "count['label']=['Gold','Bronze','Sliver']\n",
        "count"
      ],
      "metadata": {
        "colab": {
          "base_uri": "https://localhost:8080/",
          "height": 143
        },
        "id": "4C-2AEVfV7dX",
        "outputId": "78c5b5eb-c131-4a5b-fba0-ce343bc930a2"
      },
      "execution_count": null,
      "outputs": [
        {
          "output_type": "execute_result",
          "data": {
            "text/plain": [
              "   K_Cluster  customer_unique_id   label\n",
              "0          0               17406    Gold\n",
              "1          1               30657  Bronze\n",
              "2          2               40254  Sliver"
            ],
            "text/html": [
              "\n",
              "  <div id=\"df-25b24e1d-849d-4093-a653-132bdcd85b42\">\n",
              "    <div class=\"colab-df-container\">\n",
              "      <div>\n",
              "<style scoped>\n",
              "    .dataframe tbody tr th:only-of-type {\n",
              "        vertical-align: middle;\n",
              "    }\n",
              "\n",
              "    .dataframe tbody tr th {\n",
              "        vertical-align: top;\n",
              "    }\n",
              "\n",
              "    .dataframe thead th {\n",
              "        text-align: right;\n",
              "    }\n",
              "</style>\n",
              "<table border=\"1\" class=\"dataframe\">\n",
              "  <thead>\n",
              "    <tr style=\"text-align: right;\">\n",
              "      <th></th>\n",
              "      <th>K_Cluster</th>\n",
              "      <th>customer_unique_id</th>\n",
              "      <th>label</th>\n",
              "    </tr>\n",
              "  </thead>\n",
              "  <tbody>\n",
              "    <tr>\n",
              "      <th>0</th>\n",
              "      <td>0</td>\n",
              "      <td>17406</td>\n",
              "      <td>Gold</td>\n",
              "    </tr>\n",
              "    <tr>\n",
              "      <th>1</th>\n",
              "      <td>1</td>\n",
              "      <td>30657</td>\n",
              "      <td>Bronze</td>\n",
              "    </tr>\n",
              "    <tr>\n",
              "      <th>2</th>\n",
              "      <td>2</td>\n",
              "      <td>40254</td>\n",
              "      <td>Sliver</td>\n",
              "    </tr>\n",
              "  </tbody>\n",
              "</table>\n",
              "</div>\n",
              "      <button class=\"colab-df-convert\" onclick=\"convertToInteractive('df-25b24e1d-849d-4093-a653-132bdcd85b42')\"\n",
              "              title=\"Convert this dataframe to an interactive table.\"\n",
              "              style=\"display:none;\">\n",
              "        \n",
              "  <svg xmlns=\"http://www.w3.org/2000/svg\" height=\"24px\"viewBox=\"0 0 24 24\"\n",
              "       width=\"24px\">\n",
              "    <path d=\"M0 0h24v24H0V0z\" fill=\"none\"/>\n",
              "    <path d=\"M18.56 5.44l.94 2.06.94-2.06 2.06-.94-2.06-.94-.94-2.06-.94 2.06-2.06.94zm-11 1L8.5 8.5l.94-2.06 2.06-.94-2.06-.94L8.5 2.5l-.94 2.06-2.06.94zm10 10l.94 2.06.94-2.06 2.06-.94-2.06-.94-.94-2.06-.94 2.06-2.06.94z\"/><path d=\"M17.41 7.96l-1.37-1.37c-.4-.4-.92-.59-1.43-.59-.52 0-1.04.2-1.43.59L10.3 9.45l-7.72 7.72c-.78.78-.78 2.05 0 2.83L4 21.41c.39.39.9.59 1.41.59.51 0 1.02-.2 1.41-.59l7.78-7.78 2.81-2.81c.8-.78.8-2.07 0-2.86zM5.41 20L4 18.59l7.72-7.72 1.47 1.35L5.41 20z\"/>\n",
              "  </svg>\n",
              "      </button>\n",
              "      \n",
              "  <style>\n",
              "    .colab-df-container {\n",
              "      display:flex;\n",
              "      flex-wrap:wrap;\n",
              "      gap: 12px;\n",
              "    }\n",
              "\n",
              "    .colab-df-convert {\n",
              "      background-color: #E8F0FE;\n",
              "      border: none;\n",
              "      border-radius: 50%;\n",
              "      cursor: pointer;\n",
              "      display: none;\n",
              "      fill: #1967D2;\n",
              "      height: 32px;\n",
              "      padding: 0 0 0 0;\n",
              "      width: 32px;\n",
              "    }\n",
              "\n",
              "    .colab-df-convert:hover {\n",
              "      background-color: #E2EBFA;\n",
              "      box-shadow: 0px 1px 2px rgba(60, 64, 67, 0.3), 0px 1px 3px 1px rgba(60, 64, 67, 0.15);\n",
              "      fill: #174EA6;\n",
              "    }\n",
              "\n",
              "    [theme=dark] .colab-df-convert {\n",
              "      background-color: #3B4455;\n",
              "      fill: #D2E3FC;\n",
              "    }\n",
              "\n",
              "    [theme=dark] .colab-df-convert:hover {\n",
              "      background-color: #434B5C;\n",
              "      box-shadow: 0px 1px 3px 1px rgba(0, 0, 0, 0.15);\n",
              "      filter: drop-shadow(0px 1px 2px rgba(0, 0, 0, 0.3));\n",
              "      fill: #FFFFFF;\n",
              "    }\n",
              "  </style>\n",
              "\n",
              "      <script>\n",
              "        const buttonEl =\n",
              "          document.querySelector('#df-25b24e1d-849d-4093-a653-132bdcd85b42 button.colab-df-convert');\n",
              "        buttonEl.style.display =\n",
              "          google.colab.kernel.accessAllowed ? 'block' : 'none';\n",
              "\n",
              "        async function convertToInteractive(key) {\n",
              "          const element = document.querySelector('#df-25b24e1d-849d-4093-a653-132bdcd85b42');\n",
              "          const dataTable =\n",
              "            await google.colab.kernel.invokeFunction('convertToInteractive',\n",
              "                                                     [key], {});\n",
              "          if (!dataTable) return;\n",
              "\n",
              "          const docLinkHtml = 'Like what you see? Visit the ' +\n",
              "            '<a target=\"_blank\" href=https://colab.research.google.com/notebooks/data_table.ipynb>data table notebook</a>'\n",
              "            + ' to learn more about interactive tables.';\n",
              "          element.innerHTML = '';\n",
              "          dataTable['output_type'] = 'display_data';\n",
              "          await google.colab.output.renderOutput(dataTable, element);\n",
              "          const docLink = document.createElement('div');\n",
              "          docLink.innerHTML = docLinkHtml;\n",
              "          element.appendChild(docLink);\n",
              "        }\n",
              "      </script>\n",
              "    </div>\n",
              "  </div>\n",
              "  "
            ]
          },
          "metadata": {},
          "execution_count": 59
        }
      ]
    },
    {
      "cell_type": "code",
      "source": [
        "#Visualisasi\n",
        "fig=plt.figure(figsize=(16,9))\n",
        "sns.barplot(y=count['customer_unique_id'], x=count['label'], palette=\"Greens_d\")\n",
        "plt.title('Customer Based on Cluster',fontsize=20)\n",
        "plt.xlabel('Cluster',fontsize=17)\n",
        "plt.ylabel('Amount of Customer',fontsize=17)"
      ],
      "metadata": {
        "id": "9GO36eP7hM96",
        "colab": {
          "base_uri": "https://localhost:8080/",
          "height": 593
        },
        "outputId": "5c084d55-f47a-4b23-d5b6-0179d714ff1b"
      },
      "execution_count": null,
      "outputs": [
        {
          "output_type": "execute_result",
          "data": {
            "text/plain": [
              "Text(0, 0.5, 'Amount of Customer')"
            ]
          },
          "metadata": {},
          "execution_count": 60
        },
        {
          "output_type": "display_data",
          "data": {
            "text/plain": [
              "<Figure size 1152x648 with 1 Axes>"
            ],
            "image/png": "[encoded data removed]"
          },
          "metadata": {
            "needs_background": "light"
          }
        }
      ]
    },
    {
      "cell_type": "markdown",
      "source": [
        "## **4.8 Conclusion**\n",
        "\n",
        "1. Bronze: Customers who don't make purchases very often and the transaction nominal is low, but the last time he made a transaction was fast. There are 30657 subscribers of this type.\n",
        "    - Action: You can try it by giving a discount or offer with an affordable nominal so that the conversion rate increases because the number of customers in the Bronze category is quite large\n",
        "2. Silver: Customers who make purchases quite often and the transaction nominal is quite high, but the last time he made a transaction was quite long. There are 40254 subscribers of this type.\n",
        "    - Action: Given a combination of discounts and post-transaction campaigns to increase purchases by using a personalized email that can give a personal approach.\n",
        "3. Gold: Customers who frequently shop and have a large number of transactions, but the last transaction time is long. There are 17406 subscribers of this type.\n",
        "    - Action: More often given a campaign after making a transaction to make a purchase again. It could also be by giving rewards because they make transactions more often and the nominal is high."
      ],
      "metadata": {
        "id": "g9iQDeFnhWJf"
      }
    }
  ]
}